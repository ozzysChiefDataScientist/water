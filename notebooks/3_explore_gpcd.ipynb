{
 "cells": [
  {
   "cell_type": "markdown",
   "metadata": {},
   "source": [
    "__Objective__: The OIMA identifies mis-reported units by looking for deviations from average gallons per capita day. The prod and delivery files contain a GPCD column, but the data dictionary does not specify if this value was calculated from the original units or the OIMA's revised units. Explore data to attempt to determine if GPCD is calculated in revised or original units."
   ]
  },
  {
   "cell_type": "code",
   "execution_count": 1,
   "metadata": {
    "collapsed": true
   },
   "outputs": [],
   "source": [
    "import matplotlib.pyplot as plt\n",
    "import numpy as np\n",
    "import pandas as pd\n",
    "import seaborn as sns"
   ]
  },
  {
   "cell_type": "code",
   "execution_count": 2,
   "metadata": {
    "collapsed": true
   },
   "outputs": [],
   "source": [
    "pd.set_option('display.width', 5000) \n",
    "pd.set_option('display.max_colwidth', -1) \n",
    "pd.set_option('display.max_columns', 60)\n",
    "pd.options.display.float_format = '{:,.2f}'.format"
   ]
  },
  {
   "cell_type": "code",
   "execution_count": 3,
   "metadata": {
    "collapsed": true
   },
   "outputs": [],
   "source": [
    "processed_data_path  =\"../data/interim/\""
   ]
  },
  {
   "cell_type": "code",
   "execution_count": 4,
   "metadata": {
    "collapsed": true
   },
   "outputs": [],
   "source": [
    "prod = pd.read_csv(\"{}2_explore_unit_correction___prod_before_unit_conversion.csv\".format(processed_data_path))\n",
    "deliv = pd.read_csv(\"{}2_explore_unit_correction___deliv_before_unit_conversion.csv\".format(processed_data_path))\n",
    "\n",
    "deliv['gpcd_numeric'] = deliv['CALCULATED GPCD (Total delivery to residential in gallons per capita day)'].apply(lambda x: pd.to_numeric(str(x).replace(\",\",\"\"),errors='coerce'))\n",
    "prod['gpcd_numeric'] = prod['CALCULATED GPCD (Total Potable Produced in gallons per capita day)'].apply(lambda x: pd.to_numeric(str(x).replace(\",\",\"\"),errors='coerce'))"
   ]
  },
  {
   "cell_type": "code",
   "execution_count": 5,
   "metadata": {
    "collapsed": true
   },
   "outputs": [],
   "source": [
    "deliv_gallons_col = 'Total. RESIDENTIAL Delivered.Gallons (Total Does not include Landscape Irrigation, Agricultural or to other PWS)_numeric'\n",
    "revised_num_col = 'WATER DELIVERIES Total.Delivered Residential IN REVISED UNITS (Total Does not include Landscape Irrigation, Agricultural or to other PWS)_numeric'\n",
    "revised_units_col = 'Delivered.Water.Units.Revised BY OFFICE OF INFORMATION MANAGEMENT AND ANALYSIS'\n",
    "original_units_col =  'Delivered.Water.Units AS ORIGINALLY REPORTED'"
   ]
  },
  {
   "cell_type": "markdown",
   "metadata": {},
   "source": [
    "### Is the provided GPCD equal to  \"Total. RESIDENTIAL Delivered.Gallons\" / population / days in month?"
   ]
  },
  {
   "cell_type": "code",
   "execution_count": 6,
   "metadata": {
    "collapsed": true
   },
   "outputs": [],
   "source": [
    "deliv['total_deliv_in_gallons_div_resid_deliv_gallons'] = (deliv[deliv_gallons_col] / deliv['Population Of Service Area']) / deliv['Days.In.Month']\n",
    "deliv['gpcd_minus_total_deliv_in_gallons_div_resid_deliv_gallons'] = deliv['gpcd_numeric'] - deliv['total_deliv_in_gallons_div_resid_deliv_gallons']\n",
    "deliv['pct_diff_gpcd_vs_total_deliv_in_gallons_div_resid_deliv_gallons'] = deliv['gpcd_minus_total_deliv_in_gallons_div_resid_deliv_gallons'] / deliv['gpcd_numeric']"
   ]
  },
  {
   "cell_type": "code",
   "execution_count": 7,
   "metadata": {},
   "outputs": [
    {
     "name": "stdout",
     "output_type": "stream",
     "text": [
      "% with non-0 GPCD: 0.9423358687204576\n",
      "% with < 1% error: 0.9675783837864879\n",
      "% with < 0.05% error: 0.9509214066492706\n"
     ]
    },
    {
     "name": "stderr",
     "output_type": "stream",
     "text": [
      "/anaconda3/lib/python3.6/site-packages/scipy/stats/stats.py:1633: FutureWarning: Using a non-tuple sequence for multidimensional indexing is deprecated; use `arr[tuple(seq)]` instead of `arr[seq]`. In the future this will be interpreted as an array index, `arr[np.array(seq)]`, which will result either in an error or a different result.\n",
      "  return np.add.reduce(sorted[indexer] * weights, axis=axis) / sumval\n"
     ]
    },
    {
     "data": {
      "image/png": "[encoded data removed]",
      "text/plain": [
       "<matplotlib.figure.Figure at 0x1a1870f080>"
      ]
     },
     "metadata": {},
     "output_type": "display_data"
    }
   ],
   "source": [
    "print(\"% with non-0 GPCD: {}\".format(deliv[deliv['gpcd_numeric'] > 0].shape[0]  / deliv.shape[0]))\n",
    "excl_0 = deliv[deliv['gpcd_numeric'] > 0]\n",
    "print(\"% with < 1% error: {}\".format(excl_0[(np.abs(excl_0['pct_diff_gpcd_vs_total_deliv_in_gallons_div_resid_deliv_gallons']) < 0.01) ].shape[0]  / excl_0.shape[0]))\n",
    "print(\"% with < 0.05% error: {}\".format(excl_0[(np.abs(excl_0['pct_diff_gpcd_vs_total_deliv_in_gallons_div_resid_deliv_gallons']) < 0.005) ].shape[0]  / excl_0.shape[0]))\n",
    "\n",
    "sns.distplot(excl_0['pct_diff_gpcd_vs_total_deliv_in_gallons_div_resid_deliv_gallons'],kde=False)\n",
    "plt.show()"
   ]
  },
  {
   "cell_type": "markdown",
   "metadata": {},
   "source": [
    "### Is the provided GPCD equal to \"Total.Delivered Residential IN REVISED UNITS \" /population / days in month?"
   ]
  },
  {
   "cell_type": "code",
   "execution_count": 8,
   "metadata": {
    "collapsed": true
   },
   "outputs": [],
   "source": [
    "deliv['total_deliv_in_revised_div_resid_deliv_gallons'] = (deliv[revised_num_col] / deliv['Population Of Service Area']) / deliv['Days.In.Month']\n",
    "deliv['gpcd_minus_total_deliv_in_revised_div_resid_deliv_gallons'] = deliv['gpcd_numeric'] - deliv['total_deliv_in_revised_div_resid_deliv_gallons']\n",
    "deliv['pct_diff_gpcd_vs_total_deliv_in_revised_div_resid_deliv_gallons'] = deliv['gpcd_minus_total_deliv_in_revised_div_resid_deliv_gallons'] / deliv['gpcd_numeric']\n",
    "excl_0 = deliv[deliv['gpcd_numeric'] > 0]"
   ]
  },
  {
   "cell_type": "code",
   "execution_count": 9,
   "metadata": {},
   "outputs": [
    {
     "name": "stdout",
     "output_type": "stream",
     "text": [
      "% with < 1% error: 0.3925070643429823\n",
      "% with < 0.05% error: 0.3784189391993294\n"
     ]
    },
    {
     "name": "stderr",
     "output_type": "stream",
     "text": [
      "/anaconda3/lib/python3.6/site-packages/scipy/stats/stats.py:1633: FutureWarning: Using a non-tuple sequence for multidimensional indexing is deprecated; use `arr[tuple(seq)]` instead of `arr[seq]`. In the future this will be interpreted as an array index, `arr[np.array(seq)]`, which will result either in an error or a different result.\n",
      "  return np.add.reduce(sorted[indexer] * weights, axis=axis) / sumval\n"
     ]
    },
    {
     "data": {
      "image/png": "[encoded data removed]",
      "text/plain": [
       "<matplotlib.figure.Figure at 0x1a1d2bbb00>"
      ]
     },
     "metadata": {},
     "output_type": "display_data"
    }
   ],
   "source": [
    "print(\"% with < 1% error: {}\".format(excl_0[(np.abs(excl_0['pct_diff_gpcd_vs_total_deliv_in_revised_div_resid_deliv_gallons']) < 0.01) ].shape[0]  / excl_0.shape[0]))\n",
    "print(\"% with < 0.05% error: {}\".format(excl_0[(np.abs(excl_0['pct_diff_gpcd_vs_total_deliv_in_revised_div_resid_deliv_gallons']) < 0.005) ].shape[0]  / excl_0.shape[0]))\n",
    "\n",
    "sns.distplot(excl_0['pct_diff_gpcd_vs_total_deliv_in_revised_div_resid_deliv_gallons'],kde=False)\n",
    "plt.show()"
   ]
  },
  {
   "cell_type": "code",
   "execution_count": 10,
   "metadata": {
    "collapsed": true
   },
   "outputs": [],
   "source": [
    "# Among records with > 1% error, are the revised units not in gallons? "
   ]
  },
  {
   "cell_type": "code",
   "execution_count": 11,
   "metadata": {},
   "outputs": [
    {
     "data": {
      "text/html": [
       "<div>\n",
       "<style>\n",
       "    .dataframe thead tr:only-child th {\n",
       "        text-align: right;\n",
       "    }\n",
       "\n",
       "    .dataframe thead th {\n",
       "        text-align: left;\n",
       "    }\n",
       "\n",
       "    .dataframe tbody tr th {\n",
       "        vertical-align: top;\n",
       "    }\n",
       "</style>\n",
       "<table border=\"1\" class=\"dataframe\">\n",
       "  <thead>\n",
       "    <tr style=\"text-align: right;\">\n",
       "      <th></th>\n",
       "      <th>index</th>\n",
       "      <th>Delivered.Water.Units.Revised BY OFFICE OF INFORMATION MANAGEMENT AND ANALYSIS</th>\n",
       "    </tr>\n",
       "  </thead>\n",
       "  <tbody>\n",
       "    <tr>\n",
       "      <th>0</th>\n",
       "      <td>CCF</td>\n",
       "      <td>21592</td>\n",
       "    </tr>\n",
       "    <tr>\n",
       "      <th>1</th>\n",
       "      <td>MG</td>\n",
       "      <td>11828</td>\n",
       "    </tr>\n",
       "    <tr>\n",
       "      <th>2</th>\n",
       "      <td>AF</td>\n",
       "      <td>8406</td>\n",
       "    </tr>\n",
       "    <tr>\n",
       "      <th>3</th>\n",
       "      <td>G</td>\n",
       "      <td>1852</td>\n",
       "    </tr>\n",
       "    <tr>\n",
       "      <th>4</th>\n",
       "      <td>CF</td>\n",
       "      <td>1092</td>\n",
       "    </tr>\n",
       "    <tr>\n",
       "      <th>5</th>\n",
       "      <td>HG</td>\n",
       "      <td>78</td>\n",
       "    </tr>\n",
       "    <tr>\n",
       "      <th>6</th>\n",
       "      <td>DG</td>\n",
       "      <td>60</td>\n",
       "    </tr>\n",
       "    <tr>\n",
       "      <th>7</th>\n",
       "      <td>TG</td>\n",
       "      <td>24</td>\n",
       "    </tr>\n",
       "  </tbody>\n",
       "</table>\n",
       "</div>"
      ],
      "text/plain": [
       "  index  Delivered.Water.Units.Revised BY OFFICE OF INFORMATION MANAGEMENT AND ANALYSIS\n",
       "0  CCF   21592                                                                         \n",
       "1  MG    11828                                                                         \n",
       "2  AF    8406                                                                          \n",
       "3  G     1852                                                                          \n",
       "4  CF    1092                                                                          \n",
       "5  HG    78                                                                            \n",
       "6  DG    60                                                                            \n",
       "7  TG    24                                                                            "
      ]
     },
     "execution_count": 11,
     "metadata": {},
     "output_type": "execute_result"
    }
   ],
   "source": [
    "# moderate error: more than 2%\n",
    "excl_0[np.abs(excl_0['pct_diff_gpcd_vs_total_deliv_in_revised_div_resid_deliv_gallons']) > 0.01][revised_units_col].value_counts().reset_index()"
   ]
  },
  {
   "cell_type": "code",
   "execution_count": 12,
   "metadata": {},
   "outputs": [
    {
     "data": {
      "text/html": [
       "<div>\n",
       "<style>\n",
       "    .dataframe thead tr:only-child th {\n",
       "        text-align: right;\n",
       "    }\n",
       "\n",
       "    .dataframe thead th {\n",
       "        text-align: left;\n",
       "    }\n",
       "\n",
       "    .dataframe tbody tr th {\n",
       "        vertical-align: top;\n",
       "    }\n",
       "</style>\n",
       "<table border=\"1\" class=\"dataframe\">\n",
       "  <thead>\n",
       "    <tr style=\"text-align: right;\">\n",
       "      <th></th>\n",
       "      <th>index</th>\n",
       "      <th>Delivered.Water.Units.Revised BY OFFICE OF INFORMATION MANAGEMENT AND ANALYSIS</th>\n",
       "    </tr>\n",
       "  </thead>\n",
       "  <tbody>\n",
       "    <tr>\n",
       "      <th>0</th>\n",
       "      <td>CCF</td>\n",
       "      <td>21592</td>\n",
       "    </tr>\n",
       "    <tr>\n",
       "      <th>1</th>\n",
       "      <td>MG</td>\n",
       "      <td>11828</td>\n",
       "    </tr>\n",
       "    <tr>\n",
       "      <th>2</th>\n",
       "      <td>AF</td>\n",
       "      <td>8406</td>\n",
       "    </tr>\n",
       "    <tr>\n",
       "      <th>3</th>\n",
       "      <td>CF</td>\n",
       "      <td>1092</td>\n",
       "    </tr>\n",
       "    <tr>\n",
       "      <th>4</th>\n",
       "      <td>HG</td>\n",
       "      <td>78</td>\n",
       "    </tr>\n",
       "    <tr>\n",
       "      <th>5</th>\n",
       "      <td>DG</td>\n",
       "      <td>60</td>\n",
       "    </tr>\n",
       "    <tr>\n",
       "      <th>6</th>\n",
       "      <td>TG</td>\n",
       "      <td>24</td>\n",
       "    </tr>\n",
       "  </tbody>\n",
       "</table>\n",
       "</div>"
      ],
      "text/plain": [
       "  index  Delivered.Water.Units.Revised BY OFFICE OF INFORMATION MANAGEMENT AND ANALYSIS\n",
       "0  CCF   21592                                                                         \n",
       "1  MG    11828                                                                         \n",
       "2  AF    8406                                                                          \n",
       "3  CF    1092                                                                          \n",
       "4  HG    78                                                                            \n",
       "5  DG    60                                                                            \n",
       "6  TG    24                                                                            "
      ]
     },
     "execution_count": 12,
     "metadata": {},
     "output_type": "execute_result"
    }
   ],
   "source": [
    "# extreme error: Greater than 50%\n",
    "excl_0[np.abs(excl_0['pct_diff_gpcd_vs_total_deliv_in_revised_div_resid_deliv_gallons']) > 0.5][revised_units_col].value_counts().reset_index()"
   ]
  },
  {
   "cell_type": "markdown",
   "metadata": {},
   "source": [
    "### Is the \"TOTAL POTABLE WATER IN GALLONS\" equal to the \"TOTAL POTABLE WATER PRODUCED USING REVISED UNITS\" when converted from revised units to Gallons?"
   ]
  },
  {
   "cell_type": "code",
   "execution_count": 13,
   "metadata": {
    "collapsed": true
   },
   "outputs": [],
   "source": [
    "# key = original unit\n",
    "# value = multiplication factor to obtain gallons\n",
    "conversionDict = {\"AF\": 325851.43,\n",
    "                  \"CF\": 7.48051948,\n",
    "                \"CCF\": 748.051948,\n",
    "                  \"DG\": 10,\n",
    "                  \"G\":1,\n",
    "                  \"HG\": 100.,\n",
    "                  \"MG\": 1000000.,\n",
    "                 \"TG\": .1}"
   ]
  },
  {
   "cell_type": "code",
   "execution_count": 14,
   "metadata": {},
   "outputs": [
    {
     "name": "stdout",
     "output_type": "stream",
     "text": [
      "(78489, 41)\n",
      "(77699, 41)\n"
     ]
    }
   ],
   "source": [
    "print(deliv.shape)\n",
    "deliv_oima_units = deliv[deliv[revised_units_col]!=\"-\"]\n",
    "print(deliv_oima_units.shape)"
   ]
  },
  {
   "cell_type": "code",
   "execution_count": 15,
   "metadata": {},
   "outputs": [
    {
     "name": "stderr",
     "output_type": "stream",
     "text": [
      "/anaconda3/lib/python3.6/site-packages/ipykernel_launcher.py:1: SettingWithCopyWarning: \n",
      "A value is trying to be set on a copy of a slice from a DataFrame.\n",
      "Try using .loc[row_indexer,col_indexer] = value instead\n",
      "\n",
      "See the caveats in the documentation: http://pandas.pydata.org/pandas-docs/stable/indexing.html#indexing-view-versus-copy\n",
      "  \"\"\"Entry point for launching an IPython kernel.\n"
     ]
    }
   ],
   "source": [
    "deliv_oima_units['total_deliv_in_revised_conv_to_gallons'] = deliv_oima_units[[revised_num_col,revised_units_col]].apply(lambda x: conversionDict[x[1]]*x[0],axis=1)  "
   ]
  },
  {
   "cell_type": "code",
   "execution_count": 16,
   "metadata": {},
   "outputs": [
    {
     "name": "stderr",
     "output_type": "stream",
     "text": [
      "/anaconda3/lib/python3.6/site-packages/ipykernel_launcher.py:1: SettingWithCopyWarning: \n",
      "A value is trying to be set on a copy of a slice from a DataFrame.\n",
      "Try using .loc[row_indexer,col_indexer] = value instead\n",
      "\n",
      "See the caveats in the documentation: http://pandas.pydata.org/pandas-docs/stable/indexing.html#indexing-view-versus-copy\n",
      "  \"\"\"Entry point for launching an IPython kernel.\n",
      "/anaconda3/lib/python3.6/site-packages/ipykernel_launcher.py:2: SettingWithCopyWarning: \n",
      "A value is trying to be set on a copy of a slice from a DataFrame.\n",
      "Try using .loc[row_indexer,col_indexer] = value instead\n",
      "\n",
      "See the caveats in the documentation: http://pandas.pydata.org/pandas-docs/stable/indexing.html#indexing-view-versus-copy\n",
      "  \n"
     ]
    }
   ],
   "source": [
    "deliv_oima_units['diff_deliv_revised_to_deliv_gallons'] = deliv_oima_units['total_deliv_in_revised_conv_to_gallons'] - deliv_oima_units[deliv_gallons_col]\n",
    "deliv_oima_units['pct_diff_deliv_revised_to_deliv_gallons'] = deliv_oima_units['diff_deliv_revised_to_deliv_gallons'] / deliv_oima_units[deliv_gallons_col]"
   ]
  },
  {
   "cell_type": "code",
   "execution_count": 17,
   "metadata": {},
   "outputs": [
    {
     "name": "stderr",
     "output_type": "stream",
     "text": [
      "/anaconda3/lib/python3.6/site-packages/scipy/stats/stats.py:1633: FutureWarning: Using a non-tuple sequence for multidimensional indexing is deprecated; use `arr[tuple(seq)]` instead of `arr[seq]`. In the future this will be interpreted as an array index, `arr[np.array(seq)]`, which will result either in an error or a different result.\n",
      "  return np.add.reduce(sorted[indexer] * weights, axis=axis) / sumval\n"
     ]
    },
    {
     "data": {
      "image/png": "[encoded data removed]",
      "text/plain": [
       "<matplotlib.figure.Figure at 0x1138ce828>"
      ]
     },
     "metadata": {},
     "output_type": "display_data"
    }
   ],
   "source": [
    "sns.distplot(deliv_oima_units['diff_deliv_revised_to_deliv_gallons'],kde=False)\n",
    "plt.show()"
   ]
  },
  {
   "cell_type": "code",
   "execution_count": 18,
   "metadata": {},
   "outputs": [
    {
     "name": "stdout",
     "output_type": "stream",
     "text": [
      "% with < 0.01 unit of error: 0.8436530714681013\n",
      "% with < 1 units of error: 0.9025727486840243\n",
      "% with < 2 units of error: 0.9140272075573688\n"
     ]
    }
   ],
   "source": [
    "print(\"% with < 0.01 unit of error: {}\".format(deliv_oima_units[(np.abs(deliv_oima_units['diff_deliv_revised_to_deliv_gallons']) < 0.01) ].shape[0]  / deliv_oima_units.shape[0]))\n",
    "print(\"% with < 1 units of error: {}\".format(deliv_oima_units[(np.abs(deliv_oima_units['diff_deliv_revised_to_deliv_gallons']) < 1) ].shape[0]  / deliv_oima_units.shape[0]))\n",
    "print(\"% with < 2 units of error: {}\".format(deliv_oima_units[(np.abs(deliv_oima_units['diff_deliv_revised_to_deliv_gallons']) < 2) ].shape[0]  / deliv_oima_units.shape[0]))"
   ]
  },
  {
   "cell_type": "code",
   "execution_count": 19,
   "metadata": {},
   "outputs": [
    {
     "name": "stderr",
     "output_type": "stream",
     "text": [
      "/anaconda3/lib/python3.6/site-packages/scipy/stats/stats.py:1633: FutureWarning: Using a non-tuple sequence for multidimensional indexing is deprecated; use `arr[tuple(seq)]` instead of `arr[seq]`. In the future this will be interpreted as an array index, `arr[np.array(seq)]`, which will result either in an error or a different result.\n",
      "  return np.add.reduce(sorted[indexer] * weights, axis=axis) / sumval\n"
     ]
    },
    {
     "data": {
      "image/png": "[encoded data removed]",
      "text/plain": [
       "<matplotlib.figure.Figure at 0x1a180b6668>"
      ]
     },
     "metadata": {},
     "output_type": "display_data"
    }
   ],
   "source": [
    "sns.distplot(deliv_oima_units[pd.isnull(deliv_oima_units['pct_diff_deliv_revised_to_deliv_gallons'])==False]['pct_diff_deliv_revised_to_deliv_gallons'],kde=False)\n",
    "plt.show()"
   ]
  },
  {
   "cell_type": "code",
   "execution_count": 20,
   "metadata": {},
   "outputs": [
    {
     "name": "stdout",
     "output_type": "stream",
     "text": [
      "% with < 0.01% of error: 0.9955475458496766\n",
      "% with < 1% of error: 0.9997614756705184\n",
      "% with < 2% of error: 1.0\n"
     ]
    }
   ],
   "source": [
    "print(\"% with < 0.01% of error: {}\".format(deliv_oima_units[(np.abs(deliv_oima_units['pct_diff_deliv_revised_to_deliv_gallons']) < 0.01)\n",
    "                                                              & (pd.isnull(deliv_oima_units['pct_diff_deliv_revised_to_deliv_gallons'])==False) ].shape[0]  / deliv_oima_units[(pd.isnull(deliv_oima_units['pct_diff_deliv_revised_to_deliv_gallons'])==False)].shape[0]))\n",
    "print(\"% with < 1% of error: {}\".format(deliv_oima_units[(np.abs(deliv_oima_units['pct_diff_deliv_revised_to_deliv_gallons']) < 1)\n",
    "                                                              & (pd.isnull(deliv_oima_units['pct_diff_deliv_revised_to_deliv_gallons'])==False)].shape[0]  / deliv_oima_units[(pd.isnull(deliv_oima_units['pct_diff_deliv_revised_to_deliv_gallons'])==False)].shape[0]))\n",
    "print(\"% with < 2% of error: {}\".format(deliv_oima_units[(np.abs(deliv_oima_units['pct_diff_deliv_revised_to_deliv_gallons']) < 2)\n",
    "                                                              & (pd.isnull(deliv_oima_units['pct_diff_deliv_revised_to_deliv_gallons'])==False)].shape[0]  / deliv_oima_units[(pd.isnull(deliv_oima_units['pct_diff_deliv_revised_to_deliv_gallons'])==False)].shape[0]))"
   ]
  },
  {
   "cell_type": "markdown",
   "metadata": {},
   "source": [
    "Finding: When the 'WATER DELIVERIES Total.Delivered Residential IN REVISED UNITS (Total Does not include Landscape Irrigation, Agricultural or to other PWS)_numeric' column is converted from revised units to gallons, the value is within 1% of the value in 'Total. RESIDENTIAL Delivered.Gallons (Total Does not include Landscape Irrigation, Agricultural or to other PWS)_numeric'\n",
    "\n",
    "Thus, if we want to recover the ORIGINAL value on the report, we need to convert the value in 'WATER DELIVERIES Total.Delivered Residential IN REVISED UNITS (Total Does not include Landscape Irrigation, Agricultural or to other PWS)_numeric'  from the revised units to the original units."
   ]
  },
  {
   "cell_type": "markdown",
   "metadata": {},
   "source": [
    "### Convert 'WATER DELIVERIES Total.Delivered Residential IN REVISED UNITS (Total Does not include Landscape Irrigation, Agricultural or to other PWS)_numeric' from revised units to original units in order to recover values on original report"
   ]
  },
  {
   "cell_type": "code",
   "execution_count": 21,
   "metadata": {},
   "outputs": [
    {
     "data": {
      "text/html": [
       "<div>\n",
       "<style>\n",
       "    .dataframe thead tr:only-child th {\n",
       "        text-align: right;\n",
       "    }\n",
       "\n",
       "    .dataframe thead th {\n",
       "        text-align: left;\n",
       "    }\n",
       "\n",
       "    .dataframe tbody tr th {\n",
       "        vertical-align: top;\n",
       "    }\n",
       "</style>\n",
       "<table border=\"1\" class=\"dataframe\">\n",
       "  <thead>\n",
       "    <tr style=\"text-align: right;\">\n",
       "      <th></th>\n",
       "      <th>Delivered.Water.Units.Revised BY OFFICE OF INFORMATION MANAGEMENT AND ANALYSIS</th>\n",
       "      <th>Delivered.Water.Units AS ORIGINALLY REPORTED</th>\n",
       "      <th>PWSID</th>\n",
       "      <th>Water.System.Name</th>\n",
       "      <th>Water.System.Classification</th>\n",
       "      <th>Year</th>\n",
       "      <th>Month</th>\n",
       "      <th>Date</th>\n",
       "      <th>Days.In.Month</th>\n",
       "      <th>UNITS ADJUSTED BY OIMA?</th>\n",
       "      <th>WATER DELIVERIES TO Single.family.Residential</th>\n",
       "      <th>WATER DELIVERIES TO  Multi.family.Residential</th>\n",
       "      <th>WATER DELIVERIES TO  Commercial.Institutional</th>\n",
       "      <th>WATER DELIVERIES TO  Industrial</th>\n",
       "      <th>WATER DELIVERIES TO  Landscape.Irrigation</th>\n",
       "      <th>WATER DELIVERIES TO  Other</th>\n",
       "      <th>WATER DELIVERIES TO  Agricultural</th>\n",
       "      <th>WATER DELIVERIES TO  Other.PWS</th>\n",
       "      <th>WATER DELIVERIES Total.Delivered Residential IN REVISED UNITS (Total Does not include Landscape Irrigation, Agricultural or to other PWS)</th>\n",
       "      <th>Total. RESIDENTIAL Delivered.Gallons (Total Does not include Landscape Irrigation, Agricultural or to other PWS)</th>\n",
       "      <th>Population Of Service Area</th>\n",
       "      <th>CALCULATED GPCD (Total delivery to residential in gallons per capita day)</th>\n",
       "      <th>WATER DELIVERIES TO  Multi.family.Residential_numeric</th>\n",
       "      <th>WATER DELIVERIES TO  Commercial.Institutional_numeric</th>\n",
       "      <th>WATER DELIVERIES TO  Industrial_numeric</th>\n",
       "      <th>WATER DELIVERIES TO  Landscape.Irrigation_numeric</th>\n",
       "      <th>WATER DELIVERIES TO  Other_numeric</th>\n",
       "      <th>WATER DELIVERIES TO  Agricultural_numeric</th>\n",
       "      <th>WATER DELIVERIES TO  Other.PWS_numeric</th>\n",
       "      <th>WATER DELIVERIES Total.Delivered Residential IN REVISED UNITS (Total Does not include Landscape Irrigation, Agricultural or to other PWS)_numeric</th>\n",
       "      <th>Total. RESIDENTIAL Delivered.Gallons (Total Does not include Landscape Irrigation, Agricultural or to other PWS)_numeric</th>\n",
       "      <th>original_units_incorrect</th>\n",
       "      <th>units_unavailable</th>\n",
       "      <th>key</th>\n",
       "      <th>gpcd_numeric</th>\n",
       "      <th>total_deliv_in_gallons_div_resid_deliv_gallons</th>\n",
       "      <th>gpcd_minus_total_deliv_in_gallons_div_resid_deliv_gallons</th>\n",
       "      <th>pct_diff_gpcd_vs_total_deliv_in_gallons_div_resid_deliv_gallons</th>\n",
       "      <th>total_deliv_in_revised_div_resid_deliv_gallons</th>\n",
       "      <th>gpcd_minus_total_deliv_in_revised_div_resid_deliv_gallons</th>\n",
       "      <th>pct_diff_gpcd_vs_total_deliv_in_revised_div_resid_deliv_gallons</th>\n",
       "      <th>total_deliv_in_revised_conv_to_gallons</th>\n",
       "      <th>diff_deliv_revised_to_deliv_gallons</th>\n",
       "      <th>pct_diff_deliv_revised_to_deliv_gallons</th>\n",
       "    </tr>\n",
       "  </thead>\n",
       "  <tbody>\n",
       "    <tr>\n",
       "      <th>5</th>\n",
       "      <td>CF</td>\n",
       "      <td>CCF</td>\n",
       "      <td>1044</td>\n",
       "      <td>1044</td>\n",
       "      <td>1044</td>\n",
       "      <td>1044</td>\n",
       "      <td>1044</td>\n",
       "      <td>1044</td>\n",
       "      <td>1044</td>\n",
       "      <td>1044</td>\n",
       "      <td>1017</td>\n",
       "      <td>342</td>\n",
       "      <td>501</td>\n",
       "      <td>114</td>\n",
       "      <td>325</td>\n",
       "      <td>232</td>\n",
       "      <td>84</td>\n",
       "      <td>24</td>\n",
       "      <td>1044</td>\n",
       "      <td>1044</td>\n",
       "      <td>1044</td>\n",
       "      <td>1044</td>\n",
       "      <td>342</td>\n",
       "      <td>501</td>\n",
       "      <td>114</td>\n",
       "      <td>325</td>\n",
       "      <td>232</td>\n",
       "      <td>84</td>\n",
       "      <td>24</td>\n",
       "      <td>1044</td>\n",
       "      <td>1044</td>\n",
       "      <td>1044</td>\n",
       "      <td>1044</td>\n",
       "      <td>1044</td>\n",
       "      <td>1044</td>\n",
       "      <td>1044</td>\n",
       "      <td>1044</td>\n",
       "      <td>1044</td>\n",
       "      <td>1044</td>\n",
       "      <td>1044</td>\n",
       "      <td>1044</td>\n",
       "      <td>1044</td>\n",
       "      <td>1044</td>\n",
       "      <td>1044</td>\n",
       "    </tr>\n",
       "    <tr>\n",
       "      <th>11</th>\n",
       "      <td>G</td>\n",
       "      <td>MG</td>\n",
       "      <td>320</td>\n",
       "      <td>320</td>\n",
       "      <td>320</td>\n",
       "      <td>320</td>\n",
       "      <td>320</td>\n",
       "      <td>320</td>\n",
       "      <td>320</td>\n",
       "      <td>320</td>\n",
       "      <td>260</td>\n",
       "      <td>36</td>\n",
       "      <td>165</td>\n",
       "      <td>36</td>\n",
       "      <td>59</td>\n",
       "      <td>34</td>\n",
       "      <td>0</td>\n",
       "      <td>1</td>\n",
       "      <td>320</td>\n",
       "      <td>320</td>\n",
       "      <td>320</td>\n",
       "      <td>320</td>\n",
       "      <td>36</td>\n",
       "      <td>165</td>\n",
       "      <td>36</td>\n",
       "      <td>59</td>\n",
       "      <td>34</td>\n",
       "      <td>0</td>\n",
       "      <td>1</td>\n",
       "      <td>320</td>\n",
       "      <td>320</td>\n",
       "      <td>320</td>\n",
       "      <td>320</td>\n",
       "      <td>320</td>\n",
       "      <td>320</td>\n",
       "      <td>320</td>\n",
       "      <td>320</td>\n",
       "      <td>320</td>\n",
       "      <td>320</td>\n",
       "      <td>320</td>\n",
       "      <td>320</td>\n",
       "      <td>320</td>\n",
       "      <td>320</td>\n",
       "      <td>320</td>\n",
       "    </tr>\n",
       "    <tr>\n",
       "      <th>10</th>\n",
       "      <td>G</td>\n",
       "      <td>CCF</td>\n",
       "      <td>242</td>\n",
       "      <td>242</td>\n",
       "      <td>235</td>\n",
       "      <td>242</td>\n",
       "      <td>242</td>\n",
       "      <td>242</td>\n",
       "      <td>242</td>\n",
       "      <td>242</td>\n",
       "      <td>230</td>\n",
       "      <td>120</td>\n",
       "      <td>108</td>\n",
       "      <td>48</td>\n",
       "      <td>84</td>\n",
       "      <td>60</td>\n",
       "      <td>0</td>\n",
       "      <td>0</td>\n",
       "      <td>242</td>\n",
       "      <td>242</td>\n",
       "      <td>242</td>\n",
       "      <td>242</td>\n",
       "      <td>120</td>\n",
       "      <td>108</td>\n",
       "      <td>48</td>\n",
       "      <td>84</td>\n",
       "      <td>60</td>\n",
       "      <td>0</td>\n",
       "      <td>0</td>\n",
       "      <td>242</td>\n",
       "      <td>242</td>\n",
       "      <td>242</td>\n",
       "      <td>242</td>\n",
       "      <td>242</td>\n",
       "      <td>242</td>\n",
       "      <td>242</td>\n",
       "      <td>242</td>\n",
       "      <td>242</td>\n",
       "      <td>242</td>\n",
       "      <td>242</td>\n",
       "      <td>242</td>\n",
       "      <td>242</td>\n",
       "      <td>242</td>\n",
       "      <td>242</td>\n",
       "    </tr>\n",
       "    <tr>\n",
       "      <th>14</th>\n",
       "      <td>MG</td>\n",
       "      <td>G</td>\n",
       "      <td>132</td>\n",
       "      <td>132</td>\n",
       "      <td>132</td>\n",
       "      <td>132</td>\n",
       "      <td>132</td>\n",
       "      <td>132</td>\n",
       "      <td>132</td>\n",
       "      <td>132</td>\n",
       "      <td>108</td>\n",
       "      <td>36</td>\n",
       "      <td>72</td>\n",
       "      <td>48</td>\n",
       "      <td>36</td>\n",
       "      <td>30</td>\n",
       "      <td>12</td>\n",
       "      <td>0</td>\n",
       "      <td>132</td>\n",
       "      <td>132</td>\n",
       "      <td>132</td>\n",
       "      <td>132</td>\n",
       "      <td>36</td>\n",
       "      <td>72</td>\n",
       "      <td>48</td>\n",
       "      <td>36</td>\n",
       "      <td>30</td>\n",
       "      <td>12</td>\n",
       "      <td>0</td>\n",
       "      <td>132</td>\n",
       "      <td>132</td>\n",
       "      <td>132</td>\n",
       "      <td>132</td>\n",
       "      <td>132</td>\n",
       "      <td>132</td>\n",
       "      <td>132</td>\n",
       "      <td>132</td>\n",
       "      <td>132</td>\n",
       "      <td>132</td>\n",
       "      <td>132</td>\n",
       "      <td>132</td>\n",
       "      <td>132</td>\n",
       "      <td>132</td>\n",
       "      <td>132</td>\n",
       "    </tr>\n",
       "    <tr>\n",
       "      <th>0</th>\n",
       "      <td>AF</td>\n",
       "      <td>CCF</td>\n",
       "      <td>126</td>\n",
       "      <td>126</td>\n",
       "      <td>126</td>\n",
       "      <td>126</td>\n",
       "      <td>126</td>\n",
       "      <td>126</td>\n",
       "      <td>126</td>\n",
       "      <td>126</td>\n",
       "      <td>114</td>\n",
       "      <td>18</td>\n",
       "      <td>24</td>\n",
       "      <td>6</td>\n",
       "      <td>12</td>\n",
       "      <td>24</td>\n",
       "      <td>36</td>\n",
       "      <td>48</td>\n",
       "      <td>126</td>\n",
       "      <td>126</td>\n",
       "      <td>126</td>\n",
       "      <td>126</td>\n",
       "      <td>18</td>\n",
       "      <td>24</td>\n",
       "      <td>6</td>\n",
       "      <td>12</td>\n",
       "      <td>24</td>\n",
       "      <td>36</td>\n",
       "      <td>48</td>\n",
       "      <td>126</td>\n",
       "      <td>126</td>\n",
       "      <td>126</td>\n",
       "      <td>126</td>\n",
       "      <td>126</td>\n",
       "      <td>114</td>\n",
       "      <td>123</td>\n",
       "      <td>114</td>\n",
       "      <td>114</td>\n",
       "      <td>123</td>\n",
       "      <td>114</td>\n",
       "      <td>114</td>\n",
       "      <td>126</td>\n",
       "      <td>126</td>\n",
       "      <td>123</td>\n",
       "    </tr>\n",
       "    <tr>\n",
       "      <th>2</th>\n",
       "      <td>CCF</td>\n",
       "      <td>AF</td>\n",
       "      <td>120</td>\n",
       "      <td>120</td>\n",
       "      <td>120</td>\n",
       "      <td>120</td>\n",
       "      <td>120</td>\n",
       "      <td>120</td>\n",
       "      <td>120</td>\n",
       "      <td>120</td>\n",
       "      <td>120</td>\n",
       "      <td>72</td>\n",
       "      <td>84</td>\n",
       "      <td>48</td>\n",
       "      <td>36</td>\n",
       "      <td>36</td>\n",
       "      <td>0</td>\n",
       "      <td>12</td>\n",
       "      <td>120</td>\n",
       "      <td>120</td>\n",
       "      <td>120</td>\n",
       "      <td>120</td>\n",
       "      <td>72</td>\n",
       "      <td>84</td>\n",
       "      <td>48</td>\n",
       "      <td>36</td>\n",
       "      <td>36</td>\n",
       "      <td>0</td>\n",
       "      <td>12</td>\n",
       "      <td>120</td>\n",
       "      <td>120</td>\n",
       "      <td>120</td>\n",
       "      <td>120</td>\n",
       "      <td>120</td>\n",
       "      <td>120</td>\n",
       "      <td>120</td>\n",
       "      <td>120</td>\n",
       "      <td>120</td>\n",
       "      <td>120</td>\n",
       "      <td>120</td>\n",
       "      <td>120</td>\n",
       "      <td>120</td>\n",
       "      <td>120</td>\n",
       "      <td>120</td>\n",
       "    </tr>\n",
       "    <tr>\n",
       "      <th>3</th>\n",
       "      <td>CCF</td>\n",
       "      <td>G</td>\n",
       "      <td>108</td>\n",
       "      <td>108</td>\n",
       "      <td>108</td>\n",
       "      <td>108</td>\n",
       "      <td>108</td>\n",
       "      <td>108</td>\n",
       "      <td>108</td>\n",
       "      <td>108</td>\n",
       "      <td>96</td>\n",
       "      <td>72</td>\n",
       "      <td>96</td>\n",
       "      <td>60</td>\n",
       "      <td>70</td>\n",
       "      <td>36</td>\n",
       "      <td>0</td>\n",
       "      <td>0</td>\n",
       "      <td>108</td>\n",
       "      <td>108</td>\n",
       "      <td>108</td>\n",
       "      <td>108</td>\n",
       "      <td>72</td>\n",
       "      <td>96</td>\n",
       "      <td>60</td>\n",
       "      <td>70</td>\n",
       "      <td>36</td>\n",
       "      <td>0</td>\n",
       "      <td>0</td>\n",
       "      <td>108</td>\n",
       "      <td>108</td>\n",
       "      <td>108</td>\n",
       "      <td>108</td>\n",
       "      <td>108</td>\n",
       "      <td>108</td>\n",
       "      <td>108</td>\n",
       "      <td>108</td>\n",
       "      <td>108</td>\n",
       "      <td>108</td>\n",
       "      <td>108</td>\n",
       "      <td>108</td>\n",
       "      <td>108</td>\n",
       "      <td>108</td>\n",
       "      <td>108</td>\n",
       "    </tr>\n",
       "    <tr>\n",
       "      <th>4</th>\n",
       "      <td>CCF</td>\n",
       "      <td>MG</td>\n",
       "      <td>102</td>\n",
       "      <td>102</td>\n",
       "      <td>102</td>\n",
       "      <td>102</td>\n",
       "      <td>102</td>\n",
       "      <td>102</td>\n",
       "      <td>102</td>\n",
       "      <td>102</td>\n",
       "      <td>102</td>\n",
       "      <td>83</td>\n",
       "      <td>96</td>\n",
       "      <td>36</td>\n",
       "      <td>58</td>\n",
       "      <td>31</td>\n",
       "      <td>0</td>\n",
       "      <td>0</td>\n",
       "      <td>102</td>\n",
       "      <td>102</td>\n",
       "      <td>102</td>\n",
       "      <td>102</td>\n",
       "      <td>83</td>\n",
       "      <td>96</td>\n",
       "      <td>36</td>\n",
       "      <td>58</td>\n",
       "      <td>31</td>\n",
       "      <td>0</td>\n",
       "      <td>0</td>\n",
       "      <td>102</td>\n",
       "      <td>102</td>\n",
       "      <td>102</td>\n",
       "      <td>102</td>\n",
       "      <td>102</td>\n",
       "      <td>102</td>\n",
       "      <td>102</td>\n",
       "      <td>102</td>\n",
       "      <td>102</td>\n",
       "      <td>102</td>\n",
       "      <td>102</td>\n",
       "      <td>102</td>\n",
       "      <td>102</td>\n",
       "      <td>102</td>\n",
       "      <td>102</td>\n",
       "    </tr>\n",
       "    <tr>\n",
       "      <th>12</th>\n",
       "      <td>HG</td>\n",
       "      <td>G</td>\n",
       "      <td>78</td>\n",
       "      <td>78</td>\n",
       "      <td>78</td>\n",
       "      <td>78</td>\n",
       "      <td>78</td>\n",
       "      <td>78</td>\n",
       "      <td>78</td>\n",
       "      <td>78</td>\n",
       "      <td>66</td>\n",
       "      <td>0</td>\n",
       "      <td>12</td>\n",
       "      <td>0</td>\n",
       "      <td>0</td>\n",
       "      <td>0</td>\n",
       "      <td>0</td>\n",
       "      <td>0</td>\n",
       "      <td>78</td>\n",
       "      <td>78</td>\n",
       "      <td>78</td>\n",
       "      <td>78</td>\n",
       "      <td>0</td>\n",
       "      <td>12</td>\n",
       "      <td>0</td>\n",
       "      <td>0</td>\n",
       "      <td>0</td>\n",
       "      <td>0</td>\n",
       "      <td>0</td>\n",
       "      <td>78</td>\n",
       "      <td>78</td>\n",
       "      <td>78</td>\n",
       "      <td>78</td>\n",
       "      <td>78</td>\n",
       "      <td>78</td>\n",
       "      <td>78</td>\n",
       "      <td>78</td>\n",
       "      <td>78</td>\n",
       "      <td>78</td>\n",
       "      <td>78</td>\n",
       "      <td>78</td>\n",
       "      <td>78</td>\n",
       "      <td>78</td>\n",
       "      <td>78</td>\n",
       "    </tr>\n",
       "    <tr>\n",
       "      <th>13</th>\n",
       "      <td>MG</td>\n",
       "      <td>CCF</td>\n",
       "      <td>71</td>\n",
       "      <td>71</td>\n",
       "      <td>71</td>\n",
       "      <td>71</td>\n",
       "      <td>71</td>\n",
       "      <td>71</td>\n",
       "      <td>71</td>\n",
       "      <td>71</td>\n",
       "      <td>71</td>\n",
       "      <td>65</td>\n",
       "      <td>71</td>\n",
       "      <td>54</td>\n",
       "      <td>58</td>\n",
       "      <td>38</td>\n",
       "      <td>12</td>\n",
       "      <td>12</td>\n",
       "      <td>71</td>\n",
       "      <td>71</td>\n",
       "      <td>71</td>\n",
       "      <td>71</td>\n",
       "      <td>65</td>\n",
       "      <td>71</td>\n",
       "      <td>54</td>\n",
       "      <td>58</td>\n",
       "      <td>38</td>\n",
       "      <td>12</td>\n",
       "      <td>12</td>\n",
       "      <td>71</td>\n",
       "      <td>71</td>\n",
       "      <td>71</td>\n",
       "      <td>71</td>\n",
       "      <td>71</td>\n",
       "      <td>71</td>\n",
       "      <td>71</td>\n",
       "      <td>71</td>\n",
       "      <td>71</td>\n",
       "      <td>71</td>\n",
       "      <td>71</td>\n",
       "      <td>71</td>\n",
       "      <td>71</td>\n",
       "      <td>71</td>\n",
       "      <td>71</td>\n",
       "    </tr>\n",
       "    <tr>\n",
       "      <th>8</th>\n",
       "      <td>DG</td>\n",
       "      <td>G</td>\n",
       "      <td>48</td>\n",
       "      <td>48</td>\n",
       "      <td>48</td>\n",
       "      <td>48</td>\n",
       "      <td>48</td>\n",
       "      <td>48</td>\n",
       "      <td>48</td>\n",
       "      <td>48</td>\n",
       "      <td>24</td>\n",
       "      <td>0</td>\n",
       "      <td>24</td>\n",
       "      <td>0</td>\n",
       "      <td>0</td>\n",
       "      <td>0</td>\n",
       "      <td>0</td>\n",
       "      <td>0</td>\n",
       "      <td>48</td>\n",
       "      <td>48</td>\n",
       "      <td>48</td>\n",
       "      <td>48</td>\n",
       "      <td>0</td>\n",
       "      <td>24</td>\n",
       "      <td>0</td>\n",
       "      <td>0</td>\n",
       "      <td>0</td>\n",
       "      <td>0</td>\n",
       "      <td>0</td>\n",
       "      <td>48</td>\n",
       "      <td>48</td>\n",
       "      <td>48</td>\n",
       "      <td>48</td>\n",
       "      <td>48</td>\n",
       "      <td>48</td>\n",
       "      <td>48</td>\n",
       "      <td>48</td>\n",
       "      <td>48</td>\n",
       "      <td>48</td>\n",
       "      <td>48</td>\n",
       "      <td>48</td>\n",
       "      <td>48</td>\n",
       "      <td>48</td>\n",
       "      <td>48</td>\n",
       "    </tr>\n",
       "    <tr>\n",
       "      <th>15</th>\n",
       "      <td>TG</td>\n",
       "      <td>G</td>\n",
       "      <td>24</td>\n",
       "      <td>24</td>\n",
       "      <td>24</td>\n",
       "      <td>24</td>\n",
       "      <td>24</td>\n",
       "      <td>24</td>\n",
       "      <td>24</td>\n",
       "      <td>24</td>\n",
       "      <td>24</td>\n",
       "      <td>12</td>\n",
       "      <td>12</td>\n",
       "      <td>6</td>\n",
       "      <td>0</td>\n",
       "      <td>7</td>\n",
       "      <td>12</td>\n",
       "      <td>0</td>\n",
       "      <td>24</td>\n",
       "      <td>24</td>\n",
       "      <td>24</td>\n",
       "      <td>24</td>\n",
       "      <td>12</td>\n",
       "      <td>12</td>\n",
       "      <td>6</td>\n",
       "      <td>0</td>\n",
       "      <td>7</td>\n",
       "      <td>12</td>\n",
       "      <td>0</td>\n",
       "      <td>24</td>\n",
       "      <td>24</td>\n",
       "      <td>24</td>\n",
       "      <td>24</td>\n",
       "      <td>24</td>\n",
       "      <td>24</td>\n",
       "      <td>24</td>\n",
       "      <td>24</td>\n",
       "      <td>24</td>\n",
       "      <td>24</td>\n",
       "      <td>24</td>\n",
       "      <td>24</td>\n",
       "      <td>24</td>\n",
       "      <td>24</td>\n",
       "      <td>24</td>\n",
       "    </tr>\n",
       "    <tr>\n",
       "      <th>1</th>\n",
       "      <td>AF</td>\n",
       "      <td>G</td>\n",
       "      <td>12</td>\n",
       "      <td>12</td>\n",
       "      <td>12</td>\n",
       "      <td>12</td>\n",
       "      <td>12</td>\n",
       "      <td>12</td>\n",
       "      <td>12</td>\n",
       "      <td>12</td>\n",
       "      <td>12</td>\n",
       "      <td>12</td>\n",
       "      <td>12</td>\n",
       "      <td>0</td>\n",
       "      <td>12</td>\n",
       "      <td>0</td>\n",
       "      <td>12</td>\n",
       "      <td>0</td>\n",
       "      <td>12</td>\n",
       "      <td>12</td>\n",
       "      <td>12</td>\n",
       "      <td>12</td>\n",
       "      <td>12</td>\n",
       "      <td>12</td>\n",
       "      <td>0</td>\n",
       "      <td>12</td>\n",
       "      <td>0</td>\n",
       "      <td>12</td>\n",
       "      <td>0</td>\n",
       "      <td>12</td>\n",
       "      <td>12</td>\n",
       "      <td>12</td>\n",
       "      <td>12</td>\n",
       "      <td>12</td>\n",
       "      <td>12</td>\n",
       "      <td>12</td>\n",
       "      <td>12</td>\n",
       "      <td>12</td>\n",
       "      <td>12</td>\n",
       "      <td>12</td>\n",
       "      <td>12</td>\n",
       "      <td>12</td>\n",
       "      <td>12</td>\n",
       "      <td>12</td>\n",
       "    </tr>\n",
       "    <tr>\n",
       "      <th>6</th>\n",
       "      <td>CF</td>\n",
       "      <td>G</td>\n",
       "      <td>12</td>\n",
       "      <td>12</td>\n",
       "      <td>12</td>\n",
       "      <td>12</td>\n",
       "      <td>12</td>\n",
       "      <td>12</td>\n",
       "      <td>12</td>\n",
       "      <td>12</td>\n",
       "      <td>0</td>\n",
       "      <td>0</td>\n",
       "      <td>0</td>\n",
       "      <td>12</td>\n",
       "      <td>0</td>\n",
       "      <td>0</td>\n",
       "      <td>0</td>\n",
       "      <td>0</td>\n",
       "      <td>12</td>\n",
       "      <td>12</td>\n",
       "      <td>12</td>\n",
       "      <td>12</td>\n",
       "      <td>0</td>\n",
       "      <td>0</td>\n",
       "      <td>12</td>\n",
       "      <td>0</td>\n",
       "      <td>0</td>\n",
       "      <td>0</td>\n",
       "      <td>0</td>\n",
       "      <td>12</td>\n",
       "      <td>12</td>\n",
       "      <td>12</td>\n",
       "      <td>12</td>\n",
       "      <td>12</td>\n",
       "      <td>12</td>\n",
       "      <td>12</td>\n",
       "      <td>12</td>\n",
       "      <td>12</td>\n",
       "      <td>12</td>\n",
       "      <td>12</td>\n",
       "      <td>12</td>\n",
       "      <td>12</td>\n",
       "      <td>12</td>\n",
       "      <td>12</td>\n",
       "    </tr>\n",
       "    <tr>\n",
       "      <th>7</th>\n",
       "      <td>DG</td>\n",
       "      <td>CCF</td>\n",
       "      <td>12</td>\n",
       "      <td>12</td>\n",
       "      <td>12</td>\n",
       "      <td>12</td>\n",
       "      <td>12</td>\n",
       "      <td>12</td>\n",
       "      <td>12</td>\n",
       "      <td>12</td>\n",
       "      <td>12</td>\n",
       "      <td>12</td>\n",
       "      <td>12</td>\n",
       "      <td>12</td>\n",
       "      <td>12</td>\n",
       "      <td>0</td>\n",
       "      <td>0</td>\n",
       "      <td>0</td>\n",
       "      <td>12</td>\n",
       "      <td>12</td>\n",
       "      <td>12</td>\n",
       "      <td>12</td>\n",
       "      <td>12</td>\n",
       "      <td>12</td>\n",
       "      <td>12</td>\n",
       "      <td>12</td>\n",
       "      <td>0</td>\n",
       "      <td>0</td>\n",
       "      <td>0</td>\n",
       "      <td>12</td>\n",
       "      <td>12</td>\n",
       "      <td>12</td>\n",
       "      <td>12</td>\n",
       "      <td>12</td>\n",
       "      <td>12</td>\n",
       "      <td>12</td>\n",
       "      <td>12</td>\n",
       "      <td>12</td>\n",
       "      <td>12</td>\n",
       "      <td>12</td>\n",
       "      <td>12</td>\n",
       "      <td>12</td>\n",
       "      <td>12</td>\n",
       "      <td>12</td>\n",
       "    </tr>\n",
       "    <tr>\n",
       "      <th>9</th>\n",
       "      <td>G</td>\n",
       "      <td>AF</td>\n",
       "      <td>12</td>\n",
       "      <td>12</td>\n",
       "      <td>12</td>\n",
       "      <td>12</td>\n",
       "      <td>12</td>\n",
       "      <td>12</td>\n",
       "      <td>12</td>\n",
       "      <td>12</td>\n",
       "      <td>12</td>\n",
       "      <td>0</td>\n",
       "      <td>0</td>\n",
       "      <td>0</td>\n",
       "      <td>0</td>\n",
       "      <td>0</td>\n",
       "      <td>0</td>\n",
       "      <td>0</td>\n",
       "      <td>12</td>\n",
       "      <td>12</td>\n",
       "      <td>12</td>\n",
       "      <td>12</td>\n",
       "      <td>0</td>\n",
       "      <td>0</td>\n",
       "      <td>0</td>\n",
       "      <td>0</td>\n",
       "      <td>0</td>\n",
       "      <td>0</td>\n",
       "      <td>0</td>\n",
       "      <td>12</td>\n",
       "      <td>12</td>\n",
       "      <td>12</td>\n",
       "      <td>12</td>\n",
       "      <td>12</td>\n",
       "      <td>12</td>\n",
       "      <td>12</td>\n",
       "      <td>12</td>\n",
       "      <td>12</td>\n",
       "      <td>12</td>\n",
       "      <td>12</td>\n",
       "      <td>12</td>\n",
       "      <td>12</td>\n",
       "      <td>12</td>\n",
       "      <td>12</td>\n",
       "    </tr>\n",
       "  </tbody>\n",
       "</table>\n",
       "</div>"
      ],
      "text/plain": [
       "   Delivered.Water.Units.Revised BY OFFICE OF INFORMATION MANAGEMENT AND ANALYSIS Delivered.Water.Units AS ORIGINALLY REPORTED  PWSID  Water.System.Name  Water.System.Classification  Year  Month  Date  Days.In.Month  UNITS ADJUSTED BY OIMA?  WATER DELIVERIES TO Single.family.Residential  WATER DELIVERIES TO  Multi.family.Residential  WATER DELIVERIES TO  Commercial.Institutional  WATER DELIVERIES TO  Industrial  WATER DELIVERIES TO  Landscape.Irrigation  WATER DELIVERIES TO  Other  WATER DELIVERIES TO  Agricultural  WATER DELIVERIES TO  Other.PWS  WATER DELIVERIES Total.Delivered Residential IN REVISED UNITS (Total Does not include Landscape Irrigation, Agricultural or to other PWS)  Total. RESIDENTIAL Delivered.Gallons (Total Does not include Landscape Irrigation, Agricultural or to other PWS)  Population Of Service Area  CALCULATED GPCD (Total delivery to residential in gallons per capita day)  WATER DELIVERIES TO  Multi.family.Residential_numeric  WATER DELIVERIES TO  Commercial.Institutional_numeric  WATER DELIVERIES TO  Industrial_numeric  WATER DELIVERIES TO  Landscape.Irrigation_numeric  WATER DELIVERIES TO  Other_numeric  WATER DELIVERIES TO  Agricultural_numeric  WATER DELIVERIES TO  Other.PWS_numeric  WATER DELIVERIES Total.Delivered Residential IN REVISED UNITS (Total Does not include Landscape Irrigation, Agricultural or to other PWS)_numeric  Total. RESIDENTIAL Delivered.Gallons (Total Does not include Landscape Irrigation, Agricultural or to other PWS)_numeric  original_units_incorrect  units_unavailable   key  gpcd_numeric  total_deliv_in_gallons_div_resid_deliv_gallons  gpcd_minus_total_deliv_in_gallons_div_resid_deliv_gallons  pct_diff_gpcd_vs_total_deliv_in_gallons_div_resid_deliv_gallons  total_deliv_in_revised_div_resid_deliv_gallons  gpcd_minus_total_deliv_in_revised_div_resid_deliv_gallons  pct_diff_gpcd_vs_total_deliv_in_revised_div_resid_deliv_gallons  total_deliv_in_revised_conv_to_gallons  diff_deliv_revised_to_deliv_gallons  pct_diff_deliv_revised_to_deliv_gallons\n",
       "5   CF                                                                             CCF                                          1044   1044               1044                         1044  1044   1044  1044           1044                     1017                                           342                                            501                                            114                              325                                        232                         84                                 24                              1044                                                                                                                                       1044                                                                                                              1044                        1044                                                                       342                                                    501                                                    114                                      325                                                232                                 84                                         24                                      1044                                                                                                                                               1044                                                                                                                      1044                      1044               1044  1044          1044                                            1044                                                       1044                                                             1044                                            1044                                                       1044                                                             1044                                    1044                                 1044                                   \n",
       "11  G                                                                              MG                                           320    320                320                          320   320    320   320            320                      260                                            36                                             165                                            36                               59                                         34                          0                                  1                               320                                                                                                                                        320                                                                                                               320                         320                                                                        36                                                     165                                                    36                                       59                                                 34                                  0                                          1                                       320                                                                                                                                                320                                                                                                                       320                       320                320   320           320                                             320                                                        320                                                              320                                             320                                                        320                                                              320                                     320                                  320                                    \n",
       "10  G                                                                              CCF                                          242    242                235                          242   242    242   242            242                      230                                            120                                            108                                            48                               84                                         60                          0                                  0                               242                                                                                                                                        242                                                                                                               242                         242                                                                        120                                                    108                                                    48                                       84                                                 60                                  0                                          0                                       242                                                                                                                                                242                                                                                                                       242                       242                242   242           242                                             242                                                        242                                                              242                                             242                                                        242                                                              242                                     242                                  242                                    \n",
       "14  MG                                                                             G                                            132    132                132                          132   132    132   132            132                      108                                            36                                             72                                             48                               36                                         30                          12                                 0                               132                                                                                                                                        132                                                                                                               132                         132                                                                        36                                                     72                                                     48                                       36                                                 30                                  12                                         0                                       132                                                                                                                                                132                                                                                                                       132                       132                132   132           132                                             132                                                        132                                                              132                                             132                                                        132                                                              132                                     132                                  132                                    \n",
       "0   AF                                                                             CCF                                          126    126                126                          126   126    126   126            126                      114                                            18                                             24                                             6                                12                                         24                          36                                 48                              126                                                                                                                                        126                                                                                                               126                         126                                                                        18                                                     24                                                     6                                        12                                                 24                                  36                                         48                                      126                                                                                                                                                126                                                                                                                       126                       126                126   114           123                                             114                                                        114                                                              123                                             114                                                        114                                                              126                                     126                                  123                                    \n",
       "2   CCF                                                                            AF                                           120    120                120                          120   120    120   120            120                      120                                            72                                             84                                             48                               36                                         36                          0                                  12                              120                                                                                                                                        120                                                                                                               120                         120                                                                        72                                                     84                                                     48                                       36                                                 36                                  0                                          12                                      120                                                                                                                                                120                                                                                                                       120                       120                120   120           120                                             120                                                        120                                                              120                                             120                                                        120                                                              120                                     120                                  120                                    \n",
       "3   CCF                                                                            G                                            108    108                108                          108   108    108   108            108                      96                                             72                                             96                                             60                               70                                         36                          0                                  0                               108                                                                                                                                        108                                                                                                               108                         108                                                                        72                                                     96                                                     60                                       70                                                 36                                  0                                          0                                       108                                                                                                                                                108                                                                                                                       108                       108                108   108           108                                             108                                                        108                                                              108                                             108                                                        108                                                              108                                     108                                  108                                    \n",
       "4   CCF                                                                            MG                                           102    102                102                          102   102    102   102            102                      102                                            83                                             96                                             36                               58                                         31                          0                                  0                               102                                                                                                                                        102                                                                                                               102                         102                                                                        83                                                     96                                                     36                                       58                                                 31                                  0                                          0                                       102                                                                                                                                                102                                                                                                                       102                       102                102   102           102                                             102                                                        102                                                              102                                             102                                                        102                                                              102                                     102                                  102                                    \n",
       "12  HG                                                                             G                                            78     78                 78                           78    78     78    78             78                       66                                             0                                              12                                             0                                0                                          0                           0                                  0                               78                                                                                                                                         78                                                                                                                78                          78                                                                         0                                                      12                                                     0                                        0                                                  0                                   0                                          0                                       78                                                                                                                                                 78                                                                                                                        78                        78                 78    78            78                                              78                                                         78                                                               78                                              78                                                         78                                                               78                                      78                                   78                                     \n",
       "13  MG                                                                             CCF                                          71     71                 71                           71    71     71    71             71                       71                                             65                                             71                                             54                               58                                         38                          12                                 12                              71                                                                                                                                         71                                                                                                                71                          71                                                                         65                                                     71                                                     54                                       58                                                 38                                  12                                         12                                      71                                                                                                                                                 71                                                                                                                        71                        71                 71    71            71                                              71                                                         71                                                               71                                              71                                                         71                                                               71                                      71                                   71                                     \n",
       "8   DG                                                                             G                                            48     48                 48                           48    48     48    48             48                       24                                             0                                              24                                             0                                0                                          0                           0                                  0                               48                                                                                                                                         48                                                                                                                48                          48                                                                         0                                                      24                                                     0                                        0                                                  0                                   0                                          0                                       48                                                                                                                                                 48                                                                                                                        48                        48                 48    48            48                                              48                                                         48                                                               48                                              48                                                         48                                                               48                                      48                                   48                                     \n",
       "15  TG                                                                             G                                            24     24                 24                           24    24     24    24             24                       24                                             12                                             12                                             6                                0                                          7                           12                                 0                               24                                                                                                                                         24                                                                                                                24                          24                                                                         12                                                     12                                                     6                                        0                                                  7                                   12                                         0                                       24                                                                                                                                                 24                                                                                                                        24                        24                 24    24            24                                              24                                                         24                                                               24                                              24                                                         24                                                               24                                      24                                   24                                     \n",
       "1   AF                                                                             G                                            12     12                 12                           12    12     12    12             12                       12                                             12                                             12                                             0                                12                                         0                           12                                 0                               12                                                                                                                                         12                                                                                                                12                          12                                                                         12                                                     12                                                     0                                        12                                                 0                                   12                                         0                                       12                                                                                                                                                 12                                                                                                                        12                        12                 12    12            12                                              12                                                         12                                                               12                                              12                                                         12                                                               12                                      12                                   12                                     \n",
       "6   CF                                                                             G                                            12     12                 12                           12    12     12    12             12                       0                                              0                                              0                                              12                               0                                          0                           0                                  0                               12                                                                                                                                         12                                                                                                                12                          12                                                                         0                                                      0                                                      12                                       0                                                  0                                   0                                          0                                       12                                                                                                                                                 12                                                                                                                        12                        12                 12    12            12                                              12                                                         12                                                               12                                              12                                                         12                                                               12                                      12                                   12                                     \n",
       "7   DG                                                                             CCF                                          12     12                 12                           12    12     12    12             12                       12                                             12                                             12                                             12                               12                                         0                           0                                  0                               12                                                                                                                                         12                                                                                                                12                          12                                                                         12                                                     12                                                     12                                       12                                                 0                                   0                                          0                                       12                                                                                                                                                 12                                                                                                                        12                        12                 12    12            12                                              12                                                         12                                                               12                                              12                                                         12                                                               12                                      12                                   12                                     \n",
       "9   G                                                                              AF                                           12     12                 12                           12    12     12    12             12                       12                                             0                                              0                                              0                                0                                          0                           0                                  0                               12                                                                                                                                         12                                                                                                                12                          12                                                                         0                                                      0                                                      0                                        0                                                  0                                   0                                          0                                       12                                                                                                                                                 12                                                                                                                        12                        12                 12    12            12                                              12                                                         12                                                               12                                              12                                                         12                                                               12                                      12                                   12                                     "
      ]
     },
     "execution_count": 21,
     "metadata": {},
     "output_type": "execute_result"
    }
   ],
   "source": [
    "deliv_oima_units[ (deliv_oima_units[original_units_col]!=\"-\")\n",
    "                & (deliv_oima_units[revised_units_col]!=deliv_oima_units[original_units_col])].groupby([revised_units_col,original_units_col]).count().reset_index().sort_values('PWSID',ascending=False)"
   ]
  },
  {
   "cell_type": "code",
   "execution_count": 22,
   "metadata": {
    "collapsed": true
   },
   "outputs": [],
   "source": [
    "revisedToOriginalConversionDict = {\n",
    "    'CF_CCF': 0.01,\n",
    "    'G_MG': 1/float(1000000),\n",
    "    'G_CCF':748.051948,\n",
    "    'MG_G': 1000000.,\n",
    "    'AF_CCF': 435.6,\n",
    "    'CCF_AF': 1/435.6,\n",
    "    'CCF_G': 1/748.051948,\n",
    "    'CCF_MG': (1/748.051948)/float(1000000),\n",
    "    'HG_G': 100.,\n",
    "    'MG_CCF' : 748.051948*1000000.,\n",
    "    'DG_G': 10.,\n",
    "    'TG_G': 0.1,\n",
    "    'AF_G': 325851.43,\n",
    "    'CF_G': 7.48051948,\n",
    "    'DG_CCF': 748.051948*10.,\n",
    "    'G_AF': 1/325851.43,\n",
    "    'G_G': 1,\n",
    "    'CCF_CCF':1,\n",
    "    'MG_MG':1,\n",
    "    'AF_AF':1\n",
    "}"
   ]
  },
  {
   "cell_type": "code",
   "execution_count": 23,
   "metadata": {},
   "outputs": [
    {
     "name": "stdout",
     "output_type": "stream",
     "text": [
      "(77699, 44)\n",
      "(74962, 44)\n"
     ]
    }
   ],
   "source": [
    "print(deliv_oima_units.shape)\n",
    "deliv_oima_units = deliv_oima_units[ (deliv_oima_units[original_units_col]!=\"-\")]\n",
    "print(deliv_oima_units.shape)"
   ]
  },
  {
   "cell_type": "code",
   "execution_count": 24,
   "metadata": {
    "collapsed": true
   },
   "outputs": [],
   "source": [
    "deliv_oima_units['revised_units_to_original_units']  = deliv_oima_units[[revised_units_col,original_units_col]].apply(lambda x: \"{}_{}\".format(x[0],x[1]),axis=1 )"
   ]
  },
  {
   "cell_type": "code",
   "execution_count": 25,
   "metadata": {
    "collapsed": true
   },
   "outputs": [],
   "source": [
    "deliv_oima_units['original_delivered_value'] = deliv_oima_units[['revised_units_to_original_units',revised_num_col]].apply(lambda x: revisedToOriginalConversionDict[x[0]]*x[1],axis=1)"
   ]
  },
  {
   "cell_type": "markdown",
   "metadata": {},
   "source": [
    "### Convert value in original units to gallons; calculate GPCD"
   ]
  },
  {
   "cell_type": "code",
   "execution_count": 26,
   "metadata": {
    "collapsed": true
   },
   "outputs": [],
   "source": [
    "deliv_oima_units['original_delivered_value_in_gallons'] = deliv_oima_units[[original_units_col,'original_delivered_value']].apply(lambda x: conversionDict[x[0]]*x[1],axis=1)  "
   ]
  },
  {
   "cell_type": "code",
   "execution_count": 27,
   "metadata": {
    "collapsed": true
   },
   "outputs": [],
   "source": [
    "deliv_oima_units['gpcd_from_original_delivered_value_in_gallons'] = (deliv_oima_units['original_delivered_value_in_gallons']/ deliv_oima_units['Population Of Service Area']) / deliv_oima_units['Days.In.Month']"
   ]
  },
  {
   "cell_type": "markdown",
   "metadata": {},
   "source": [
    "### Explore GPCD among GPCD reported in incorrect units"
   ]
  },
  {
   "cell_type": "code",
   "execution_count": 28,
   "metadata": {},
   "outputs": [
    {
     "name": "stderr",
     "output_type": "stream",
     "text": [
      "/anaconda3/lib/python3.6/site-packages/scipy/stats/stats.py:1633: FutureWarning: Using a non-tuple sequence for multidimensional indexing is deprecated; use `arr[tuple(seq)]` instead of `arr[seq]`. In the future this will be interpreted as an array index, `arr[np.array(seq)]`, which will result either in an error or a different result.\n",
      "  return np.add.reduce(sorted[indexer] * weights, axis=axis) / sumval\n"
     ]
    },
    {
     "data": {
      "image/png": "[encoded data removed]",
      "text/plain": [
       "<matplotlib.figure.Figure at 0x1a19580d68>"
      ]
     },
     "metadata": {},
     "output_type": "display_data"
    }
   ],
   "source": [
    "incorrectUnitsGPCD = deliv_oima_units[ (deliv_oima_units['original_units_incorrect']==1)\n",
    "                     & (pd.isnull(deliv_oima_units['gpcd_from_original_delivered_value_in_gallons'])==False)\n",
    "                    & (np.isinf(deliv_oima_units['gpcd_from_original_delivered_value_in_gallons'])==False)]['gpcd_from_original_delivered_value_in_gallons']\n",
    "sns.distplot(incorrectUnitsGPCD)\n",
    "plt.show()"
   ]
  },
  {
   "cell_type": "code",
   "execution_count": 29,
   "metadata": {},
   "outputs": [
    {
     "data": {
      "text/plain": [
       "count   2,451.00      \n",
       "mean    7,915,834.62  \n",
       "std     23,313,854.91 \n",
       "min     0.00          \n",
       "10%     1.05          \n",
       "25%     66.48         \n",
       "50%     123.99        \n",
       "75%     244.41        \n",
       "90%     33,211,568.46 \n",
       "max     188,844,776.03\n",
       "Name: gpcd_from_original_delivered_value_in_gallons, dtype: float64"
      ]
     },
     "execution_count": 29,
     "metadata": {},
     "output_type": "execute_result"
    }
   ],
   "source": [
    "incorrectUnitsGPCD.describe(percentiles=[0.1,.25,.5,.75,.9])"
   ]
  },
  {
   "cell_type": "code",
   "execution_count": null,
   "metadata": {
    "collapsed": true
   },
   "outputs": [],
   "source": []
  },
  {
   "cell_type": "markdown",
   "metadata": {},
   "source": [
    "### Explore GPCD among GPCD reported in correct units"
   ]
  },
  {
   "cell_type": "code",
   "execution_count": 30,
   "metadata": {},
   "outputs": [
    {
     "name": "stderr",
     "output_type": "stream",
     "text": [
      "/anaconda3/lib/python3.6/site-packages/scipy/stats/stats.py:1633: FutureWarning: Using a non-tuple sequence for multidimensional indexing is deprecated; use `arr[tuple(seq)]` instead of `arr[seq]`. In the future this will be interpreted as an array index, `arr[np.array(seq)]`, which will result either in an error or a different result.\n",
      "  return np.add.reduce(sorted[indexer] * weights, axis=axis) / sumval\n"
     ]
    },
    {
     "data": {
      "image/png": "[encoded data removed]",
      "text/plain": [
       "<matplotlib.figure.Figure at 0x1a17a44ac8>"
      ]
     },
     "metadata": {},
     "output_type": "display_data"
    }
   ],
   "source": [
    "correctUnitsGPCD = deliv_oima_units[ (deliv_oima_units['original_units_incorrect']==0)\n",
    "                     & (pd.isnull(deliv_oima_units['gpcd_from_original_delivered_value_in_gallons'])==False)\n",
    "                    & (np.isinf(deliv_oima_units['gpcd_from_original_delivered_value_in_gallons'])==False)]['gpcd_from_original_delivered_value_in_gallons']\n",
    "sns.distplot(correctUnitsGPCD)\n",
    "plt.show()"
   ]
  },
  {
   "cell_type": "code",
   "execution_count": 31,
   "metadata": {},
   "outputs": [
    {
     "data": {
      "text/plain": [
       "count   70,412.00    \n",
       "mean    3,229.74     \n",
       "std     232,095.48   \n",
       "min     -291.56      \n",
       "10%     10.52        \n",
       "25%     48.64        \n",
       "50%     96.49        \n",
       "75%     170.15       \n",
       "90%     336.69       \n",
       "max     21,867,914.39\n",
       "Name: gpcd_from_original_delivered_value_in_gallons, dtype: float64"
      ]
     },
     "execution_count": 31,
     "metadata": {},
     "output_type": "execute_result"
    }
   ],
   "source": [
    "correctUnitsGPCD.describe(percentiles=[0.1,.25,.5,.75,.9])"
   ]
  },
  {
   "cell_type": "code",
   "execution_count": 32,
   "metadata": {
    "collapsed": true
   },
   "outputs": [],
   "source": [
    "### Review incorrect units that have comparable GPCD to correct units"
   ]
  },
  {
   "cell_type": "code",
   "execution_count": 33,
   "metadata": {
    "collapsed": true
   },
   "outputs": [],
   "source": [
    "comp = deliv_oima_units[ (deliv_oima_units['original_units_incorrect']==1)\n",
    "                     & (pd.isnull(deliv_oima_units['gpcd_from_original_delivered_value_in_gallons'])==False)\n",
    "                    & (np.isinf(deliv_oima_units['gpcd_from_original_delivered_value_in_gallons'])==False)\n",
    "                & (deliv_oima_units['gpcd_from_original_delivered_value_in_gallons'] > 48)\n",
    "                 & (deliv_oima_units['gpcd_from_original_delivered_value_in_gallons'] < 170)]"
   ]
  },
  {
   "cell_type": "code",
   "execution_count": 34,
   "metadata": {},
   "outputs": [
    {
     "name": "stderr",
     "output_type": "stream",
     "text": [
      "/anaconda3/lib/python3.6/site-packages/ipykernel_launcher.py:1: SettingWithCopyWarning: \n",
      "A value is trying to be set on a copy of a slice from a DataFrame.\n",
      "Try using .loc[row_indexer,col_indexer] = value instead\n",
      "\n",
      "See the caveats in the documentation: http://pandas.pydata.org/pandas-docs/stable/indexing.html#indexing-view-versus-copy\n",
      "  \"\"\"Entry point for launching an IPython kernel.\n",
      "/anaconda3/lib/python3.6/site-packages/ipykernel_launcher.py:2: SettingWithCopyWarning: \n",
      "A value is trying to be set on a copy of a slice from a DataFrame.\n",
      "Try using .loc[row_indexer,col_indexer] = value instead\n",
      "\n",
      "See the caveats in the documentation: http://pandas.pydata.org/pandas-docs/stable/indexing.html#indexing-view-versus-copy\n",
      "  \n"
     ]
    }
   ],
   "source": [
    "comp['diff_gpcd_from_original_g_vs_gpcd_numeric'] = comp['gpcd_from_original_delivered_value_in_gallons'] - comp['gpcd_numeric']\n",
    "comp['pct_diff_gpcd_from_original_g_vs_gpcd_numeric'] = comp['diff_gpcd_from_original_g_vs_gpcd_numeric']  / comp['gpcd_numeric']"
   ]
  },
  {
   "cell_type": "code",
   "execution_count": 35,
   "metadata": {},
   "outputs": [
    {
     "name": "stderr",
     "output_type": "stream",
     "text": [
      "/anaconda3/lib/python3.6/site-packages/scipy/stats/stats.py:1633: FutureWarning: Using a non-tuple sequence for multidimensional indexing is deprecated; use `arr[tuple(seq)]` instead of `arr[seq]`. In the future this will be interpreted as an array index, `arr[np.array(seq)]`, which will result either in an error or a different result.\n",
      "  return np.add.reduce(sorted[indexer] * weights, axis=axis) / sumval\n"
     ]
    },
    {
     "data": {
      "image/png": "[encoded data removed]",
      "text/plain": [
       "<matplotlib.figure.Figure at 0x1138c1c50>"
      ]
     },
     "metadata": {},
     "output_type": "display_data"
    }
   ],
   "source": [
    "sns.distplot(comp['pct_diff_gpcd_from_original_g_vs_gpcd_numeric'])\n",
    "plt.show()"
   ]
  },
  {
   "cell_type": "code",
   "execution_count": 36,
   "metadata": {},
   "outputs": [
    {
     "data": {
      "text/plain": [
       "(1083, 50)"
      ]
     },
     "execution_count": 36,
     "metadata": {},
     "output_type": "execute_result"
    }
   ],
   "source": [
    "comp.shape"
   ]
  },
  {
   "cell_type": "code",
   "execution_count": 37,
   "metadata": {},
   "outputs": [
    {
     "data": {
      "text/plain": [
       "CF_CCF    664\n",
       "G_MG      129\n",
       "CCF_AF    77 \n",
       "MG_G      73 \n",
       "HG_G      58 \n",
       "AF_CCF    56 \n",
       "CF_G      8  \n",
       "DG_G      7  \n",
       "G_AF      7  \n",
       "AF_G      4  \n",
       "Name: revised_units_to_original_units, dtype: int64"
      ]
     },
     "execution_count": 37,
     "metadata": {},
     "output_type": "execute_result"
    }
   ],
   "source": [
    "comp['revised_units_to_original_units'].value_counts()"
   ]
  },
  {
   "cell_type": "code",
   "execution_count": 38,
   "metadata": {},
   "outputs": [
    {
     "data": {
      "text/html": [
       "<div>\n",
       "<style>\n",
       "    .dataframe thead tr:only-child th {\n",
       "        text-align: right;\n",
       "    }\n",
       "\n",
       "    .dataframe thead th {\n",
       "        text-align: left;\n",
       "    }\n",
       "\n",
       "    .dataframe tbody tr th {\n",
       "        vertical-align: top;\n",
       "    }\n",
       "</style>\n",
       "<table border=\"1\" class=\"dataframe\">\n",
       "  <thead>\n",
       "    <tr style=\"text-align: right;\">\n",
       "      <th></th>\n",
       "      <th>Total. RESIDENTIAL Delivered.Gallons (Total Does not include Landscape Irrigation, Agricultural or to other PWS)_numeric</th>\n",
       "      <th>WATER DELIVERIES Total.Delivered Residential IN REVISED UNITS (Total Does not include Landscape Irrigation, Agricultural or to other PWS)_numeric</th>\n",
       "      <th>revised_units_to_original_units</th>\n",
       "      <th>original_delivered_value</th>\n",
       "      <th>original_delivered_value_in_gallons</th>\n",
       "    </tr>\n",
       "  </thead>\n",
       "  <tbody>\n",
       "    <tr>\n",
       "      <th>1217</th>\n",
       "      <td>3,350,629.40</td>\n",
       "      <td>447,914.00</td>\n",
       "      <td>CF_CCF</td>\n",
       "      <td>4,479.14</td>\n",
       "      <td>3,350,629.40</td>\n",
       "    </tr>\n",
       "    <tr>\n",
       "      <th>1218</th>\n",
       "      <td>4,241,611.64</td>\n",
       "      <td>567,021.00</td>\n",
       "      <td>CF_CCF</td>\n",
       "      <td>5,670.21</td>\n",
       "      <td>4,241,611.64</td>\n",
       "    </tr>\n",
       "    <tr>\n",
       "      <th>1222</th>\n",
       "      <td>3,866,194.29</td>\n",
       "      <td>516,835.00</td>\n",
       "      <td>CF_CCF</td>\n",
       "      <td>5,168.35</td>\n",
       "      <td>3,866,194.29</td>\n",
       "    </tr>\n",
       "    <tr>\n",
       "      <th>1229</th>\n",
       "      <td>2,939,559.90</td>\n",
       "      <td>392,962.00</td>\n",
       "      <td>CF_CCF</td>\n",
       "      <td>3,929.62</td>\n",
       "      <td>2,939,559.90</td>\n",
       "    </tr>\n",
       "    <tr>\n",
       "      <th>1230</th>\n",
       "      <td>3,897,148.68</td>\n",
       "      <td>520,973.00</td>\n",
       "      <td>CF_CCF</td>\n",
       "      <td>5,209.73</td>\n",
       "      <td>3,897,148.68</td>\n",
       "    </tr>\n",
       "  </tbody>\n",
       "</table>\n",
       "</div>"
      ],
      "text/plain": [
       "      Total. RESIDENTIAL Delivered.Gallons (Total Does not include Landscape Irrigation, Agricultural or to other PWS)_numeric  WATER DELIVERIES Total.Delivered Residential IN REVISED UNITS (Total Does not include Landscape Irrigation, Agricultural or to other PWS)_numeric revised_units_to_original_units  original_delivered_value  original_delivered_value_in_gallons\n",
       "1217 3,350,629.40                                                                                                              447,914.00                                                                                                                                          CF_CCF                         4,479.14                  3,350,629.40                        \n",
       "1218 4,241,611.64                                                                                                              567,021.00                                                                                                                                          CF_CCF                         5,670.21                  4,241,611.64                        \n",
       "1222 3,866,194.29                                                                                                              516,835.00                                                                                                                                          CF_CCF                         5,168.35                  3,866,194.29                        \n",
       "1229 2,939,559.90                                                                                                              392,962.00                                                                                                                                          CF_CCF                         3,929.62                  2,939,559.90                        \n",
       "1230 3,897,148.68                                                                                                              520,973.00                                                                                                                                          CF_CCF                         5,209.73                  3,897,148.68                        "
      ]
     },
     "execution_count": 38,
     "metadata": {},
     "output_type": "execute_result"
    }
   ],
   "source": [
    "comp[0:5][['Total. RESIDENTIAL Delivered.Gallons (Total Does not include Landscape Irrigation, Agricultural or to other PWS)_numeric',\n",
    "           'WATER DELIVERIES Total.Delivered Residential IN REVISED UNITS (Total Does not include Landscape Irrigation, Agricultural or to other PWS)_numeric',\n",
    "           'revised_units_to_original_units','original_delivered_value','original_delivered_value_in_gallons']]"
   ]
  },
  {
   "cell_type": "markdown",
   "metadata": {},
   "source": [
    "* For these records, the total residential delivery gallons column appears to be calculated from the original units, not the revised units.\n",
    "* Try calculating GPCD from the \"WATER DELIVERIES Total.Delivered Residential IN REVISED UNITS (Total Does not include Landscape Irrigation, Agricultural or to other PWS)_numeric\" column, but assume the values are in the original units (do not convert from revised units to original units)."
   ]
  },
  {
   "cell_type": "markdown",
   "metadata": {},
   "source": [
    "### Calculate GPCD from \"\"WATER DELIVERIES Total.Delivered Residential IN REVISED UNITS\", but assume the value is in the original units"
   ]
  },
  {
   "cell_type": "code",
   "execution_count": 39,
   "metadata": {
    "collapsed": true
   },
   "outputs": [],
   "source": [
    "deliv_oima_units['water_deliv_residential_revised_units_in_orig_units_to_gallons'] = deliv_oima_units[[original_units_col,revised_num_col]].apply(lambda x: conversionDict[x[0]]*x[1],axis=1) \n",
    "deliv_oima_units['gpcd_from_water_deliv_residential_revised_units_in_orig_units_in_gallons'] = (deliv_oima_units['water_deliv_residential_revised_units_in_orig_units_to_gallons']/ deliv_oima_units['Population Of Service Area']) / deliv_oima_units['Days.In.Month']"
   ]
  },
  {
   "cell_type": "code",
   "execution_count": 40,
   "metadata": {},
   "outputs": [
    {
     "name": "stderr",
     "output_type": "stream",
     "text": [
      "/anaconda3/lib/python3.6/site-packages/scipy/stats/stats.py:1633: FutureWarning: Using a non-tuple sequence for multidimensional indexing is deprecated; use `arr[tuple(seq)]` instead of `arr[seq]`. In the future this will be interpreted as an array index, `arr[np.array(seq)]`, which will result either in an error or a different result.\n",
      "  return np.add.reduce(sorted[indexer] * weights, axis=axis) / sumval\n"
     ]
    },
    {
     "data": {
      "image/png": "[encoded data removed]",
      "text/plain": [
       "<matplotlib.figure.Figure at 0x1a181024e0>"
      ]
     },
     "metadata": {},
     "output_type": "display_data"
    }
   ],
   "source": [
    "correctUnitsGPCD = deliv_oima_units[ (deliv_oima_units['original_units_incorrect']==0)\n",
    "                     & (pd.isnull(deliv_oima_units['gpcd_from_water_deliv_residential_revised_units_in_orig_units_in_gallons'])==False)\n",
    "                    & (np.isinf(deliv_oima_units['gpcd_from_water_deliv_residential_revised_units_in_orig_units_in_gallons'])==False)]['gpcd_from_water_deliv_residential_revised_units_in_orig_units_in_gallons']\n",
    "sns.distplot(correctUnitsGPCD)\n",
    "plt.show()"
   ]
  },
  {
   "cell_type": "code",
   "execution_count": 41,
   "metadata": {},
   "outputs": [
    {
     "data": {
      "text/plain": [
       "count   70,412.00    \n",
       "mean    3,229.74     \n",
       "std     232,095.48   \n",
       "min     -291.56      \n",
       "10%     10.52        \n",
       "25%     48.64        \n",
       "50%     96.49        \n",
       "75%     170.15       \n",
       "90%     336.69       \n",
       "max     21,867,914.39\n",
       "Name: gpcd_from_water_deliv_residential_revised_units_in_orig_units_in_gallons, dtype: float64"
      ]
     },
     "execution_count": 41,
     "metadata": {},
     "output_type": "execute_result"
    }
   ],
   "source": [
    "correctUnitsGPCD.describe(percentiles=[0.1,.25,.5,.75,.9])"
   ]
  },
  {
   "cell_type": "code",
   "execution_count": 42,
   "metadata": {},
   "outputs": [
    {
     "name": "stderr",
     "output_type": "stream",
     "text": [
      "/anaconda3/lib/python3.6/site-packages/scipy/stats/stats.py:1633: FutureWarning: Using a non-tuple sequence for multidimensional indexing is deprecated; use `arr[tuple(seq)]` instead of `arr[seq]`. In the future this will be interpreted as an array index, `arr[np.array(seq)]`, which will result either in an error or a different result.\n",
      "  return np.add.reduce(sorted[indexer] * weights, axis=axis) / sumval\n"
     ]
    },
    {
     "data": {
      "image/png": "[encoded data removed]",
      "text/plain": [
       "<matplotlib.figure.Figure at 0x1a19583a20>"
      ]
     },
     "metadata": {},
     "output_type": "display_data"
    }
   ],
   "source": [
    "incorrectUnitsGPCD = deliv_oima_units[ (deliv_oima_units['original_units_incorrect']==1)\n",
    "                     & (pd.isnull(deliv_oima_units['gpcd_from_water_deliv_residential_revised_units_in_orig_units_in_gallons'])==False)\n",
    "                    & (np.isinf(deliv_oima_units['gpcd_from_water_deliv_residential_revised_units_in_orig_units_in_gallons'])==False)]['gpcd_from_water_deliv_residential_revised_units_in_orig_units_in_gallons']\n",
    "sns.distplot(incorrectUnitsGPCD)\n",
    "plt.show()"
   ]
  },
  {
   "cell_type": "code",
   "execution_count": 43,
   "metadata": {},
   "outputs": [
    {
     "data": {
      "text/plain": [
       "count   2,451.00        \n",
       "mean    25,848,618.24   \n",
       "std     122,647,998.51  \n",
       "min     0.00            \n",
       "10%     0.11            \n",
       "25%     3,723.11        \n",
       "50%     13,814.03       \n",
       "75%     57,109.54       \n",
       "90%     36,912,508.34   \n",
       "max     2,271,723,220.16\n",
       "Name: gpcd_from_water_deliv_residential_revised_units_in_orig_units_in_gallons, dtype: float64"
      ]
     },
     "execution_count": 43,
     "metadata": {},
     "output_type": "execute_result"
    }
   ],
   "source": [
    "incorrectUnitsGPCD.describe(percentiles=[0.1,.25,.5,.75,.9])"
   ]
  },
  {
   "cell_type": "code",
   "execution_count": 44,
   "metadata": {
    "collapsed": true
   },
   "outputs": [],
   "source": [
    "deliv_oima_units.to_csv(\"{}3_explore_gpcd___gpcdFromOriginalReport.csv\".format(processed_data_path))"
   ]
  },
  {
   "cell_type": "code",
   "execution_count": null,
   "metadata": {
    "collapsed": true
   },
   "outputs": [],
   "source": []
  }
 ],
 "metadata": {
  "kernelspec": {
   "display_name": "Python 3",
   "language": "python",
   "name": "python3"
  },
  "language_info": {
   "codemirror_mode": {
    "name": "ipython",
    "version": 3
   },
   "file_extension": ".py",
   "mimetype": "text/x-python",
   "name": "python",
   "nbconvert_exporter": "python",
   "pygments_lexer": "ipython3",
   "version": "3.6.3"
  }
 },
 "nbformat": 4,
 "nbformat_minor": 2
}
