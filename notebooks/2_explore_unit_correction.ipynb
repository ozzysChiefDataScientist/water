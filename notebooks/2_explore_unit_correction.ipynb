{
 "cells": [
  {
   "cell_type": "markdown",
   "metadata": {
    "collapsed": true
   },
   "source": [
    "__Business Statement__: The prod and delivery files contain a column called \"Units Adjusted by OIMA.\" The OIMA reviews water reports to determine if the units used in the original report are correct. OIMA manually reviews the water reports to look for deviations from average gallons per capita day and PWS trends. If they believe the original units are incorrect they present revised units. \n",
    "\n",
    "__Objective__: Understand how often prod and delivery reports are submitted in the incorrect units."
   ]
  },
  {
   "cell_type": "code",
   "execution_count": 1,
   "metadata": {
    "collapsed": true
   },
   "outputs": [],
   "source": [
    "import numpy as np\n",
    "import pandas as pd"
   ]
  },
  {
   "cell_type": "code",
   "execution_count": 2,
   "metadata": {
    "collapsed": true
   },
   "outputs": [],
   "source": [
    "pd.set_option('display.width', 5000) \n",
    "pd.set_option('display.max_colwidth', -1) \n",
    "pd.set_option('display.max_columns', 60)"
   ]
  },
  {
   "cell_type": "code",
   "execution_count": 3,
   "metadata": {
    "collapsed": true
   },
   "outputs": [],
   "source": [
    "processed_data_path  =\"../data/interim/\""
   ]
  },
  {
   "cell_type": "markdown",
   "metadata": {},
   "source": [
    "### Read in prod and delivery files in state before we convert units to gallons using revised units"
   ]
  },
  {
   "cell_type": "code",
   "execution_count": 4,
   "metadata": {
    "collapsed": true
   },
   "outputs": [],
   "source": [
    "prod_processed = pd.read_csv(\"{}1_initial_eda___prod_before_unit_conversion.csv\".format(processed_data_path))\n",
    "deliv_processed = pd.read_csv(\"{}1_initial_eda___deliv_before_unit_conversion.csv\".format(processed_data_path))"
   ]
  },
  {
   "cell_type": "code",
   "execution_count": 5,
   "metadata": {
    "collapsed": true
   },
   "outputs": [],
   "source": [
    "deliv_processed['Date'] = pd.to_datetime(deliv_processed['Date'])\n",
    "prod_processed['Date'] = pd.to_datetime(prod_processed['Date'])"
   ]
  },
  {
   "cell_type": "markdown",
   "metadata": {},
   "source": [
    "#### Create a 0/1 flag indicating if units are incorrect or unavailable"
   ]
  },
  {
   "cell_type": "code",
   "execution_count": 6,
   "metadata": {
    "collapsed": true
   },
   "outputs": [],
   "source": [
    "prod_processed['original_units_incorrect'] = prod_processed[['WATER PRODUCED Water.Units IN UNITS ORIGINALLY REPORTED',\n",
    "                                                            'WATER PRODUCED Water.Units REVIEWED BY OFFICE OF INFORMATION MANAGEMENT AND ANALYSIS']].apply(lambda x: 1 if x[0]!= x[1] else 0,axis=1)\n",
    "deliv_processed['original_units_incorrect'] = deliv_processed[['Delivered.Water.Units AS ORIGINALLY REPORTED',\n",
    "                                                            'Delivered.Water.Units.Revised BY OFFICE OF INFORMATION MANAGEMENT AND ANALYSIS']].apply(lambda x: 1 if x[0]!= x[1] else 0,axis=1)\n",
    "\n",
    "prod_processed['units_unavailable'] = prod_processed['WATER PRODUCED Water.Units REVIEWED BY OFFICE OF INFORMATION MANAGEMENT AND ANALYSIS'].apply(lambda x: 1 if x==\"-\" else 0)\n",
    "deliv_processed['units_unavailable'] = deliv_processed[ 'Delivered.Water.Units.Revised BY OFFICE OF INFORMATION MANAGEMENT AND ANALYSIS'].apply(lambda x: 1 if x==\"-\" else 0)"
   ]
  },
  {
   "cell_type": "markdown",
   "metadata": {},
   "source": [
    "### How often are units reported incorrectly?"
   ]
  },
  {
   "cell_type": "code",
   "execution_count": 7,
   "metadata": {},
   "outputs": [
    {
     "data": {
      "text/plain": [
       "0    0.974498\n",
       "1    0.025502\n",
       "Name: original_units_incorrect, dtype: float64"
      ]
     },
     "execution_count": 7,
     "metadata": {},
     "output_type": "execute_result"
    }
   ],
   "source": [
    "prod_processed[prod_processed['units_unavailable']==0]['original_units_incorrect'].value_counts() / prod_processed[prod_processed['units_unavailable']==0].shape[0]"
   ]
  },
  {
   "cell_type": "code",
   "execution_count": 8,
   "metadata": {},
   "outputs": [
    {
     "data": {
      "text/plain": [
       "0    0.933116\n",
       "1    0.066884\n",
       "Name: original_units_incorrect, dtype: float64"
      ]
     },
     "execution_count": 8,
     "metadata": {},
     "output_type": "execute_result"
    }
   ],
   "source": [
    "# What % of records have units reported incorrectly?\n",
    "deliv_processed[deliv_processed['units_unavailable']==0]['original_units_incorrect'].value_counts() / deliv_processed[deliv_processed['units_unavailable']==0].shape[0]"
   ]
  },
  {
   "cell_type": "markdown",
   "metadata": {},
   "source": [
    "The delivery file appears to have more issues with incorrect units that the prod file.\n",
    "\n",
    "### Are there trends over time?"
   ]
  },
  {
   "cell_type": "code",
   "execution_count": 9,
   "metadata": {},
   "outputs": [
    {
     "data": {
      "text/html": [
       "<div>\n",
       "<style>\n",
       "    .dataframe thead tr:only-child th {\n",
       "        text-align: right;\n",
       "    }\n",
       "\n",
       "    .dataframe thead th {\n",
       "        text-align: left;\n",
       "    }\n",
       "\n",
       "    .dataframe tbody tr th {\n",
       "        vertical-align: top;\n",
       "    }\n",
       "</style>\n",
       "<table border=\"1\" class=\"dataframe\">\n",
       "  <thead>\n",
       "    <tr>\n",
       "      <th></th>\n",
       "      <th>Year</th>\n",
       "      <th colspan=\"2\" halign=\"left\">original_units_incorrect</th>\n",
       "      <th>pct</th>\n",
       "    </tr>\n",
       "    <tr>\n",
       "      <th></th>\n",
       "      <th></th>\n",
       "      <th>sum</th>\n",
       "      <th>count</th>\n",
       "      <th></th>\n",
       "    </tr>\n",
       "  </thead>\n",
       "  <tbody>\n",
       "    <tr>\n",
       "      <th>0</th>\n",
       "      <td>2013</td>\n",
       "      <td>1227</td>\n",
       "      <td>15494</td>\n",
       "      <td>0.079192</td>\n",
       "    </tr>\n",
       "    <tr>\n",
       "      <th>1</th>\n",
       "      <td>2014</td>\n",
       "      <td>1637</td>\n",
       "      <td>17153</td>\n",
       "      <td>0.095435</td>\n",
       "    </tr>\n",
       "    <tr>\n",
       "      <th>2</th>\n",
       "      <td>2015</td>\n",
       "      <td>1517</td>\n",
       "      <td>21772</td>\n",
       "      <td>0.069677</td>\n",
       "    </tr>\n",
       "    <tr>\n",
       "      <th>3</th>\n",
       "      <td>2016</td>\n",
       "      <td>819</td>\n",
       "      <td>23328</td>\n",
       "      <td>0.035108</td>\n",
       "    </tr>\n",
       "  </tbody>\n",
       "</table>\n",
       "</div>"
      ],
      "text/plain": [
       "   Year original_units_incorrect              pct\n",
       "                             sum  count          \n",
       "0  2013  1227                     15494  0.079192\n",
       "1  2014  1637                     17153  0.095435\n",
       "2  2015  1517                     21772  0.069677\n",
       "3  2016  819                      23328  0.035108"
      ]
     },
     "execution_count": 9,
     "metadata": {},
     "output_type": "execute_result"
    }
   ],
   "source": [
    "incorrectByYear = deliv_processed[deliv_processed['units_unavailable']==0][['Year','original_units_incorrect']].groupby('Year').agg({'original_units_incorrect':['sum','count']}).reset_index()\n",
    "incorrectByYear['pct'] = incorrectByYear[('original_units_incorrect', 'sum')] / incorrectByYear[('original_units_incorrect', 'count')]\n",
    "incorrectByYear"
   ]
  },
  {
   "cell_type": "code",
   "execution_count": 10,
   "metadata": {},
   "outputs": [
    {
     "data": {
      "text/html": [
       "<div>\n",
       "<style>\n",
       "    .dataframe thead tr:only-child th {\n",
       "        text-align: right;\n",
       "    }\n",
       "\n",
       "    .dataframe thead th {\n",
       "        text-align: left;\n",
       "    }\n",
       "\n",
       "    .dataframe tbody tr th {\n",
       "        vertical-align: top;\n",
       "    }\n",
       "</style>\n",
       "<table border=\"1\" class=\"dataframe\">\n",
       "  <thead>\n",
       "    <tr>\n",
       "      <th></th>\n",
       "      <th>Year</th>\n",
       "      <th colspan=\"2\" halign=\"left\">original_units_incorrect</th>\n",
       "      <th>pct</th>\n",
       "    </tr>\n",
       "    <tr>\n",
       "      <th></th>\n",
       "      <th></th>\n",
       "      <th>sum</th>\n",
       "      <th>count</th>\n",
       "      <th></th>\n",
       "    </tr>\n",
       "  </thead>\n",
       "  <tbody>\n",
       "    <tr>\n",
       "      <th>0</th>\n",
       "      <td>2013</td>\n",
       "      <td>2012</td>\n",
       "      <td>43070</td>\n",
       "      <td>0.046715</td>\n",
       "    </tr>\n",
       "    <tr>\n",
       "      <th>1</th>\n",
       "      <td>2014</td>\n",
       "      <td>2394</td>\n",
       "      <td>53149</td>\n",
       "      <td>0.045043</td>\n",
       "    </tr>\n",
       "    <tr>\n",
       "      <th>2</th>\n",
       "      <td>2015</td>\n",
       "      <td>546</td>\n",
       "      <td>54560</td>\n",
       "      <td>0.010007</td>\n",
       "    </tr>\n",
       "    <tr>\n",
       "      <th>3</th>\n",
       "      <td>2016</td>\n",
       "      <td>461</td>\n",
       "      <td>61476</td>\n",
       "      <td>0.007499</td>\n",
       "    </tr>\n",
       "  </tbody>\n",
       "</table>\n",
       "</div>"
      ],
      "text/plain": [
       "   Year original_units_incorrect              pct\n",
       "                             sum  count          \n",
       "0  2013  2012                     43070  0.046715\n",
       "1  2014  2394                     53149  0.045043\n",
       "2  2015  546                      54560  0.010007\n",
       "3  2016  461                      61476  0.007499"
      ]
     },
     "execution_count": 10,
     "metadata": {},
     "output_type": "execute_result"
    }
   ],
   "source": [
    "incorrectByYear = prod_processed[prod_processed['units_unavailable']==0][['Year','original_units_incorrect']].groupby('Year').agg({'original_units_incorrect':['sum','count']}).reset_index()\n",
    "incorrectByYear['pct'] = incorrectByYear[('original_units_incorrect', 'sum')] / incorrectByYear[('original_units_incorrect', 'count')]\n",
    "incorrectByYear"
   ]
  },
  {
   "cell_type": "markdown",
   "metadata": {},
   "source": [
    "The delivery file reached a low of 3.5% incorrect reports in 2016, vs. 6-9% in prior years. However, Since close to 24K reports were filed in 2016, we can explore using modeling to identify incorrect units. This would save staff the time of manually reviewing reports.\n",
    "\n",
    "### Are there water sytems that reported incorrectly multiple times?"
   ]
  },
  {
   "cell_type": "code",
   "execution_count": 11,
   "metadata": {},
   "outputs": [
    {
     "data": {
      "text/html": [
       "<div>\n",
       "<style>\n",
       "    .dataframe thead tr:only-child th {\n",
       "        text-align: right;\n",
       "    }\n",
       "\n",
       "    .dataframe thead th {\n",
       "        text-align: left;\n",
       "    }\n",
       "\n",
       "    .dataframe tbody tr th {\n",
       "        vertical-align: top;\n",
       "    }\n",
       "</style>\n",
       "<table border=\"1\" class=\"dataframe\">\n",
       "  <thead>\n",
       "    <tr>\n",
       "      <th></th>\n",
       "      <th>Water.System.Name</th>\n",
       "      <th colspan=\"2\" halign=\"left\">Date</th>\n",
       "    </tr>\n",
       "    <tr>\n",
       "      <th></th>\n",
       "      <th></th>\n",
       "      <th>min</th>\n",
       "      <th>max</th>\n",
       "    </tr>\n",
       "  </thead>\n",
       "  <tbody>\n",
       "    <tr>\n",
       "      <th>0</th>\n",
       "      <td>AERIAL ACRES WATER SYSTEM</td>\n",
       "      <td>2013-01-01</td>\n",
       "      <td>2014-12-01</td>\n",
       "    </tr>\n",
       "    <tr>\n",
       "      <th>1</th>\n",
       "      <td>AFTON STORE</td>\n",
       "      <td>2016-01-01</td>\n",
       "      <td>2016-12-01</td>\n",
       "    </tr>\n",
       "    <tr>\n",
       "      <th>2</th>\n",
       "      <td>ALDERCROFT HEIGHTS COUNTY WATER DISTRICT</td>\n",
       "      <td>2014-01-01</td>\n",
       "      <td>2014-12-01</td>\n",
       "    </tr>\n",
       "    <tr>\n",
       "      <th>3</th>\n",
       "      <td>ALPINE ACRES MUTUAL WATER CO</td>\n",
       "      <td>2013-03-01</td>\n",
       "      <td>2013-12-01</td>\n",
       "    </tr>\n",
       "    <tr>\n",
       "      <th>4</th>\n",
       "      <td>ANDERSON SPRINGS CSD</td>\n",
       "      <td>2014-01-01</td>\n",
       "      <td>2015-12-01</td>\n",
       "    </tr>\n",
       "    <tr>\n",
       "      <th>5</th>\n",
       "      <td>APTCO LLC</td>\n",
       "      <td>2014-01-01</td>\n",
       "      <td>2015-12-01</td>\n",
       "    </tr>\n",
       "    <tr>\n",
       "      <th>6</th>\n",
       "      <td>AROMAS HILLS MUTUAL WATER ASSOCIATION</td>\n",
       "      <td>2013-01-01</td>\n",
       "      <td>2013-12-01</td>\n",
       "    </tr>\n",
       "    <tr>\n",
       "      <th>7</th>\n",
       "      <td>ASHFORD HIGHLANDS MWC</td>\n",
       "      <td>2015-01-01</td>\n",
       "      <td>2015-12-01</td>\n",
       "    </tr>\n",
       "    <tr>\n",
       "      <th>8</th>\n",
       "      <td>ASOLEADO MWC</td>\n",
       "      <td>2015-02-01</td>\n",
       "      <td>2015-12-01</td>\n",
       "    </tr>\n",
       "    <tr>\n",
       "      <th>9</th>\n",
       "      <td>BADGER HILL ESTATES</td>\n",
       "      <td>2015-01-01</td>\n",
       "      <td>2015-12-01</td>\n",
       "    </tr>\n",
       "  </tbody>\n",
       "</table>\n",
       "</div>"
      ],
      "text/plain": [
       "                          Water.System.Name       Date           \n",
       "                                                   min        max\n",
       "0  AERIAL ACRES WATER SYSTEM                2013-01-01 2014-12-01\n",
       "1  AFTON STORE                              2016-01-01 2016-12-01\n",
       "2  ALDERCROFT HEIGHTS COUNTY WATER DISTRICT 2014-01-01 2014-12-01\n",
       "3  ALPINE ACRES MUTUAL WATER CO             2013-03-01 2013-12-01\n",
       "4  ANDERSON SPRINGS CSD                     2014-01-01 2015-12-01\n",
       "5  APTCO LLC                                2014-01-01 2015-12-01\n",
       "6  AROMAS HILLS MUTUAL WATER ASSOCIATION    2013-01-01 2013-12-01\n",
       "7  ASHFORD HIGHLANDS MWC                    2015-01-01 2015-12-01\n",
       "8  ASOLEADO MWC                             2015-02-01 2015-12-01\n",
       "9  BADGER HILL ESTATES                      2015-01-01 2015-12-01"
      ]
     },
     "execution_count": 11,
     "metadata": {},
     "output_type": "execute_result"
    }
   ],
   "source": [
    "firstLastTimeIncorrect =  deliv_processed[ (deliv_processed['units_unavailable']==0) & (deliv_processed['original_units_incorrect']==1)]\\\n",
    "[['Water.System.Name','Date']].groupby('Water.System.Name').agg({\"Date\": [min,max]}).reset_index()\n",
    "firstLastTimeIncorrect[0:10]"
   ]
  },
  {
   "cell_type": "code",
   "execution_count": 12,
   "metadata": {},
   "outputs": [
    {
     "data": {
      "text/html": [
       "<div>\n",
       "<style>\n",
       "    .dataframe thead tr:only-child th {\n",
       "        text-align: right;\n",
       "    }\n",
       "\n",
       "    .dataframe thead th {\n",
       "        text-align: left;\n",
       "    }\n",
       "\n",
       "    .dataframe tbody tr th {\n",
       "        vertical-align: top;\n",
       "    }\n",
       "</style>\n",
       "<table border=\"1\" class=\"dataframe\">\n",
       "  <thead>\n",
       "    <tr>\n",
       "      <th></th>\n",
       "      <th colspan=\"2\" halign=\"left\">Date</th>\n",
       "      <th>Water.System.Name</th>\n",
       "    </tr>\n",
       "    <tr>\n",
       "      <th></th>\n",
       "      <th>min</th>\n",
       "      <th>max</th>\n",
       "      <th></th>\n",
       "    </tr>\n",
       "  </thead>\n",
       "  <tbody>\n",
       "    <tr>\n",
       "      <th>13</th>\n",
       "      <td>2014-01-01</td>\n",
       "      <td>2014-12-01</td>\n",
       "      <td>77</td>\n",
       "    </tr>\n",
       "    <tr>\n",
       "      <th>26</th>\n",
       "      <td>2015-01-01</td>\n",
       "      <td>2015-12-01</td>\n",
       "      <td>66</td>\n",
       "    </tr>\n",
       "    <tr>\n",
       "      <th>1</th>\n",
       "      <td>2013-01-01</td>\n",
       "      <td>2013-12-01</td>\n",
       "      <td>61</td>\n",
       "    </tr>\n",
       "    <tr>\n",
       "      <th>38</th>\n",
       "      <td>2016-01-01</td>\n",
       "      <td>2016-12-01</td>\n",
       "      <td>27</td>\n",
       "    </tr>\n",
       "    <tr>\n",
       "      <th>5</th>\n",
       "      <td>2013-01-01</td>\n",
       "      <td>2016-12-01</td>\n",
       "      <td>15</td>\n",
       "    </tr>\n",
       "    <tr>\n",
       "      <th>2</th>\n",
       "      <td>2013-01-01</td>\n",
       "      <td>2014-12-01</td>\n",
       "      <td>13</td>\n",
       "    </tr>\n",
       "    <tr>\n",
       "      <th>14</th>\n",
       "      <td>2014-01-01</td>\n",
       "      <td>2015-12-01</td>\n",
       "      <td>11</td>\n",
       "    </tr>\n",
       "    <tr>\n",
       "      <th>15</th>\n",
       "      <td>2014-01-01</td>\n",
       "      <td>2016-12-01</td>\n",
       "      <td>11</td>\n",
       "    </tr>\n",
       "    <tr>\n",
       "      <th>27</th>\n",
       "      <td>2015-01-01</td>\n",
       "      <td>2016-12-01</td>\n",
       "      <td>10</td>\n",
       "    </tr>\n",
       "    <tr>\n",
       "      <th>3</th>\n",
       "      <td>2013-01-01</td>\n",
       "      <td>2015-12-01</td>\n",
       "      <td>9</td>\n",
       "    </tr>\n",
       "  </tbody>\n",
       "</table>\n",
       "</div>"
      ],
      "text/plain": [
       "         Date            Water.System.Name\n",
       "          min        max                  \n",
       "13 2014-01-01 2014-12-01  77              \n",
       "26 2015-01-01 2015-12-01  66              \n",
       "1  2013-01-01 2013-12-01  61              \n",
       "38 2016-01-01 2016-12-01  27              \n",
       "5  2013-01-01 2016-12-01  15              \n",
       "2  2013-01-01 2014-12-01  13              \n",
       "14 2014-01-01 2015-12-01  11              \n",
       "15 2014-01-01 2016-12-01  11              \n",
       "27 2015-01-01 2016-12-01  10              \n",
       "3  2013-01-01 2015-12-01  9               "
      ]
     },
     "execution_count": 12,
     "metadata": {},
     "output_type": "execute_result"
    }
   ],
   "source": [
    "# 142 systems were incorrect for first time in Jan 2014; last time in Dec 2014\n",
    "# 123 systems were incorrect for first time in Jan 2013; last time in Dec 2013\n",
    "firstLastTimeIncorrect.groupby([ ('Date', 'min'), ('Date', 'max')]).count().reset_index().sort_values('Water.System.Name',ascending=False)[0:10]"
   ]
  },
  {
   "cell_type": "code",
   "execution_count": 13,
   "metadata": {},
   "outputs": [
    {
     "data": {
      "text/html": [
       "<div>\n",
       "<style>\n",
       "    .dataframe thead tr:only-child th {\n",
       "        text-align: right;\n",
       "    }\n",
       "\n",
       "    .dataframe thead th {\n",
       "        text-align: left;\n",
       "    }\n",
       "\n",
       "    .dataframe tbody tr th {\n",
       "        vertical-align: top;\n",
       "    }\n",
       "</style>\n",
       "<table border=\"1\" class=\"dataframe\">\n",
       "  <thead>\n",
       "    <tr style=\"text-align: right;\">\n",
       "      <th></th>\n",
       "      <th>index</th>\n",
       "      <th>original_units_incorrect</th>\n",
       "    </tr>\n",
       "  </thead>\n",
       "  <tbody>\n",
       "    <tr>\n",
       "      <th>0</th>\n",
       "      <td>12</td>\n",
       "      <td>231</td>\n",
       "    </tr>\n",
       "    <tr>\n",
       "      <th>1</th>\n",
       "      <td>24</td>\n",
       "      <td>42</td>\n",
       "    </tr>\n",
       "    <tr>\n",
       "      <th>2</th>\n",
       "      <td>6</td>\n",
       "      <td>16</td>\n",
       "    </tr>\n",
       "    <tr>\n",
       "      <th>3</th>\n",
       "      <td>36</td>\n",
       "      <td>12</td>\n",
       "    </tr>\n",
       "    <tr>\n",
       "      <th>4</th>\n",
       "      <td>48</td>\n",
       "      <td>11</td>\n",
       "    </tr>\n",
       "    <tr>\n",
       "      <th>5</th>\n",
       "      <td>4</td>\n",
       "      <td>7</td>\n",
       "    </tr>\n",
       "    <tr>\n",
       "      <th>6</th>\n",
       "      <td>8</td>\n",
       "      <td>5</td>\n",
       "    </tr>\n",
       "    <tr>\n",
       "      <th>7</th>\n",
       "      <td>1</td>\n",
       "      <td>5</td>\n",
       "    </tr>\n",
       "    <tr>\n",
       "      <th>8</th>\n",
       "      <td>18</td>\n",
       "      <td>4</td>\n",
       "    </tr>\n",
       "    <tr>\n",
       "      <th>9</th>\n",
       "      <td>9</td>\n",
       "      <td>4</td>\n",
       "    </tr>\n",
       "  </tbody>\n",
       "</table>\n",
       "</div>"
      ],
      "text/plain": [
       "   index  original_units_incorrect\n",
       "0  12     231                     \n",
       "1  24     42                      \n",
       "2  6      16                      \n",
       "3  36     12                      \n",
       "4  48     11                      \n",
       "5  4      7                       \n",
       "6  8      5                       \n",
       "7  1      5                       \n",
       "8  18     4                       \n",
       "9  9      4                       "
      ]
     },
     "execution_count": 13,
     "metadata": {},
     "output_type": "execute_result"
    }
   ],
   "source": [
    "# generally systems are incorrect for 12 months\n",
    "numTimesIncorrectBySystem = deliv_processed[(deliv_processed['units_unavailable']==0) & (deliv_processed['original_units_incorrect']==1)][['Water.System.Name','original_units_incorrect']].groupby('Water.System.Name').sum().reset_index()\n",
    "numTimesIncorrectBySystem['original_units_incorrect'].value_counts().reset_index()[0:10]"
   ]
  },
  {
   "cell_type": "markdown",
   "metadata": {},
   "source": [
    "### In each FY, How many water systems deliver their first report? \n",
    "Systems might be more likely to misreport units on their first report"
   ]
  },
  {
   "cell_type": "code",
   "execution_count": 14,
   "metadata": {
    "collapsed": true
   },
   "outputs": [],
   "source": [
    "earliestProd = prod_processed[['Water.System.Name','Date']].groupby([\"Water.System.Name\"]).min().reset_index()\n",
    "earliestDeliv = deliv_processed[['Water.System.Name','Date']].groupby([\"Water.System.Name\"]).min().reset_index()"
   ]
  },
  {
   "cell_type": "code",
   "execution_count": 15,
   "metadata": {},
   "outputs": [
    {
     "data": {
      "text/html": [
       "<div>\n",
       "<style>\n",
       "    .dataframe thead tr:only-child th {\n",
       "        text-align: right;\n",
       "    }\n",
       "\n",
       "    .dataframe thead th {\n",
       "        text-align: left;\n",
       "    }\n",
       "\n",
       "    .dataframe tbody tr th {\n",
       "        vertical-align: top;\n",
       "    }\n",
       "</style>\n",
       "<table border=\"1\" class=\"dataframe\">\n",
       "  <thead>\n",
       "    <tr style=\"text-align: right;\">\n",
       "      <th></th>\n",
       "      <th>index</th>\n",
       "      <th>Date</th>\n",
       "    </tr>\n",
       "  </thead>\n",
       "  <tbody>\n",
       "    <tr>\n",
       "      <th>0</th>\n",
       "      <td>2013-01-01</td>\n",
       "      <td>3469</td>\n",
       "    </tr>\n",
       "    <tr>\n",
       "      <th>1</th>\n",
       "      <td>2014-01-01</td>\n",
       "      <td>979</td>\n",
       "    </tr>\n",
       "    <tr>\n",
       "      <th>2</th>\n",
       "      <td>2016-01-01</td>\n",
       "      <td>744</td>\n",
       "    </tr>\n",
       "    <tr>\n",
       "      <th>3</th>\n",
       "      <td>2015-01-01</td>\n",
       "      <td>520</td>\n",
       "    </tr>\n",
       "    <tr>\n",
       "      <th>4</th>\n",
       "      <td>2013-05-01</td>\n",
       "      <td>73</td>\n",
       "    </tr>\n",
       "    <tr>\n",
       "      <th>5</th>\n",
       "      <td>2013-02-01</td>\n",
       "      <td>64</td>\n",
       "    </tr>\n",
       "    <tr>\n",
       "      <th>6</th>\n",
       "      <td>2013-06-01</td>\n",
       "      <td>54</td>\n",
       "    </tr>\n",
       "    <tr>\n",
       "      <th>7</th>\n",
       "      <td>2014-05-01</td>\n",
       "      <td>39</td>\n",
       "    </tr>\n",
       "    <tr>\n",
       "      <th>8</th>\n",
       "      <td>2016-05-01</td>\n",
       "      <td>38</td>\n",
       "    </tr>\n",
       "    <tr>\n",
       "      <th>9</th>\n",
       "      <td>2014-02-01</td>\n",
       "      <td>36</td>\n",
       "    </tr>\n",
       "  </tbody>\n",
       "</table>\n",
       "</div>"
      ],
      "text/plain": [
       "       index  Date\n",
       "0 2013-01-01  3469\n",
       "1 2014-01-01  979 \n",
       "2 2016-01-01  744 \n",
       "3 2015-01-01  520 \n",
       "4 2013-05-01  73  \n",
       "5 2013-02-01  64  \n",
       "6 2013-06-01  54  \n",
       "7 2014-05-01  39  \n",
       "8 2016-05-01  38  \n",
       "9 2014-02-01  36  "
      ]
     },
     "execution_count": 15,
     "metadata": {},
     "output_type": "execute_result"
    }
   ],
   "source": [
    "earliestProd['Date'].value_counts().reset_index()[0:10]"
   ]
  },
  {
   "cell_type": "code",
   "execution_count": 16,
   "metadata": {},
   "outputs": [
    {
     "data": {
      "text/html": [
       "<div>\n",
       "<style>\n",
       "    .dataframe thead tr:only-child th {\n",
       "        text-align: right;\n",
       "    }\n",
       "\n",
       "    .dataframe thead th {\n",
       "        text-align: left;\n",
       "    }\n",
       "\n",
       "    .dataframe tbody tr th {\n",
       "        vertical-align: top;\n",
       "    }\n",
       "</style>\n",
       "<table border=\"1\" class=\"dataframe\">\n",
       "  <thead>\n",
       "    <tr style=\"text-align: right;\">\n",
       "      <th></th>\n",
       "      <th>index</th>\n",
       "      <th>Date</th>\n",
       "    </tr>\n",
       "  </thead>\n",
       "  <tbody>\n",
       "    <tr>\n",
       "      <th>0</th>\n",
       "      <td>2013-01-01</td>\n",
       "      <td>1280</td>\n",
       "    </tr>\n",
       "    <tr>\n",
       "      <th>1</th>\n",
       "      <td>2015-01-01</td>\n",
       "      <td>481</td>\n",
       "    </tr>\n",
       "    <tr>\n",
       "      <th>2</th>\n",
       "      <td>2016-01-01</td>\n",
       "      <td>377</td>\n",
       "    </tr>\n",
       "    <tr>\n",
       "      <th>3</th>\n",
       "      <td>2014-01-01</td>\n",
       "      <td>265</td>\n",
       "    </tr>\n",
       "    <tr>\n",
       "      <th>4</th>\n",
       "      <td>2013-02-01</td>\n",
       "      <td>58</td>\n",
       "    </tr>\n",
       "    <tr>\n",
       "      <th>5</th>\n",
       "      <td>2015-02-01</td>\n",
       "      <td>49</td>\n",
       "    </tr>\n",
       "    <tr>\n",
       "      <th>6</th>\n",
       "      <td>2013-03-01</td>\n",
       "      <td>25</td>\n",
       "    </tr>\n",
       "    <tr>\n",
       "      <th>7</th>\n",
       "      <td>2015-05-01</td>\n",
       "      <td>17</td>\n",
       "    </tr>\n",
       "    <tr>\n",
       "      <th>8</th>\n",
       "      <td>2013-12-01</td>\n",
       "      <td>16</td>\n",
       "    </tr>\n",
       "    <tr>\n",
       "      <th>9</th>\n",
       "      <td>2014-02-01</td>\n",
       "      <td>13</td>\n",
       "    </tr>\n",
       "  </tbody>\n",
       "</table>\n",
       "</div>"
      ],
      "text/plain": [
       "       index  Date\n",
       "0 2013-01-01  1280\n",
       "1 2015-01-01  481 \n",
       "2 2016-01-01  377 \n",
       "3 2014-01-01  265 \n",
       "4 2013-02-01  58  \n",
       "5 2015-02-01  49  \n",
       "6 2013-03-01  25  \n",
       "7 2015-05-01  17  \n",
       "8 2013-12-01  16  \n",
       "9 2014-02-01  13  "
      ]
     },
     "execution_count": 16,
     "metadata": {},
     "output_type": "execute_result"
    }
   ],
   "source": [
    "earliestDeliv['Date'].value_counts().reset_index()[0:10]"
   ]
  },
  {
   "cell_type": "code",
   "execution_count": 17,
   "metadata": {},
   "outputs": [
    {
     "data": {
      "text/html": [
       "<div>\n",
       "<style>\n",
       "    .dataframe thead tr:only-child th {\n",
       "        text-align: right;\n",
       "    }\n",
       "\n",
       "    .dataframe thead th {\n",
       "        text-align: left;\n",
       "    }\n",
       "\n",
       "    .dataframe tbody tr th {\n",
       "        vertical-align: top;\n",
       "    }\n",
       "</style>\n",
       "<table border=\"1\" class=\"dataframe\">\n",
       "  <thead>\n",
       "    <tr style=\"text-align: right;\">\n",
       "      <th></th>\n",
       "      <th>Water.System.Name</th>\n",
       "      <th>Date</th>\n",
       "    </tr>\n",
       "  </thead>\n",
       "  <tbody>\n",
       "    <tr>\n",
       "      <th>2</th>\n",
       "      <td>141 SUBURBAN ROAD WATER SUPPLY</td>\n",
       "      <td>2016-01-01</td>\n",
       "    </tr>\n",
       "    <tr>\n",
       "      <th>8</th>\n",
       "      <td>5033 PENTECOST</td>\n",
       "      <td>2016-01-01</td>\n",
       "    </tr>\n",
       "    <tr>\n",
       "      <th>9</th>\n",
       "      <td>60TH STREET ASSOC. WATER SYSTEM</td>\n",
       "      <td>2016-01-01</td>\n",
       "    </tr>\n",
       "    <tr>\n",
       "      <th>11</th>\n",
       "      <td>7 LAKES RESORT</td>\n",
       "      <td>2016-01-01</td>\n",
       "    </tr>\n",
       "    <tr>\n",
       "      <th>31</th>\n",
       "      <td>ACTON FOUR SQUARE CHURCH</td>\n",
       "      <td>2016-01-01</td>\n",
       "    </tr>\n",
       "    <tr>\n",
       "      <th>47</th>\n",
       "      <td>AETNA SPRINGS GOLF COURSE</td>\n",
       "      <td>2016-01-01</td>\n",
       "    </tr>\n",
       "    <tr>\n",
       "      <th>54</th>\n",
       "      <td>AGUA DULCE WATER SYSTEM</td>\n",
       "      <td>2016-01-01</td>\n",
       "    </tr>\n",
       "    <tr>\n",
       "      <th>55</th>\n",
       "      <td>AGUA DULCE WINERY</td>\n",
       "      <td>2016-01-01</td>\n",
       "    </tr>\n",
       "    <tr>\n",
       "      <th>56</th>\n",
       "      <td>AGUA DULCE WOMEN'S CLUB</td>\n",
       "      <td>2016-01-01</td>\n",
       "    </tr>\n",
       "    <tr>\n",
       "      <th>58</th>\n",
       "      <td>AHWAHNEE QUIK MART</td>\n",
       "      <td>2016-01-01</td>\n",
       "    </tr>\n",
       "  </tbody>\n",
       "</table>\n",
       "</div>"
      ],
      "text/plain": [
       "                  Water.System.Name       Date\n",
       "2   141 SUBURBAN ROAD WATER SUPPLY  2016-01-01\n",
       "8   5033 PENTECOST                  2016-01-01\n",
       "9   60TH STREET ASSOC. WATER SYSTEM 2016-01-01\n",
       "11  7 LAKES RESORT                  2016-01-01\n",
       "31  ACTON FOUR SQUARE CHURCH        2016-01-01\n",
       "47  AETNA SPRINGS GOLF COURSE       2016-01-01\n",
       "54  AGUA DULCE WATER SYSTEM         2016-01-01\n",
       "55  AGUA DULCE WINERY               2016-01-01\n",
       "56  AGUA DULCE WOMEN'S CLUB         2016-01-01\n",
       "58  AHWAHNEE QUIK MART              2016-01-01"
      ]
     },
     "execution_count": 17,
     "metadata": {},
     "output_type": "execute_result"
    }
   ],
   "source": [
    "earliestProd[earliestProd['Date']==\"2016-01-01\"][0:10]\n",
    "# Ahwahnee Quik Mart:\n",
    "#https://sdwis.waterboards.ca.gov/PDWW/JSP/ContactUs.jsp?tinwsys_is_number=7070&tinwsys_st_code=CA\n",
    "# Activity Date = 11-06-2015\n",
    "\n",
    "#Acton Four Square Church\n",
    "# https://sdwis.waterboards.ca.gov/PDWW/JSP/WaterSystemDetail.jsp?tinwsys_is_number=2402&tinwsys_st_code=CA\n",
    "#Activity Date = 08-08-2016\n",
    "# There's a ocnsumer confidence report from April 13, 2015\n",
    "# Found a report from 2003: https://merritt.cdlib.org/d/ark:%252F13030%252Fm5125t23/2/producer%252Fcadwsap-s1900894-001.pdf\n",
    "\n",
    "# I doubt that tehese are 'new' water systems; the date just represents the first tiem the production data has been captured"
   ]
  },
  {
   "cell_type": "markdown",
   "metadata": {
    "collapsed": true
   },
   "source": [
    "###  Do systems report correctly, then report incorrectly later on?"
   ]
  },
  {
   "cell_type": "code",
   "execution_count": 18,
   "metadata": {
    "collapsed": true
   },
   "outputs": [],
   "source": [
    "earliest_correct = prod_processed[ (prod_processed['original_units_incorrect']==0)\n",
    "                                 & (prod_processed['units_unavailable']==0) ][['Water.System.Name','Date']].groupby([\"Water.System.Name\"]).min().reset_index()\n",
    "earliest_wrong = prod_processed[ (prod_processed['original_units_incorrect']==1)\n",
    "                                & (prod_processed['units_unavailable']==0)][['Water.System.Name','Date']].groupby([\"Water.System.Name\"]).min().reset_index()"
   ]
  },
  {
   "cell_type": "code",
   "execution_count": 19,
   "metadata": {
    "collapsed": true
   },
   "outputs": [],
   "source": [
    "correctAndWrong = earliest_correct.merge(earliest_wrong,on=\"Water.System.Name\",\n",
    "                                        suffixes=['_correct','_wrong'],how=\"outer\")"
   ]
  },
  {
   "cell_type": "code",
   "execution_count": 20,
   "metadata": {},
   "outputs": [
    {
     "data": {
      "text/plain": [
       "(228, 3)"
      ]
     },
     "execution_count": 20,
     "metadata": {},
     "output_type": "execute_result"
    }
   ],
   "source": [
    "# systems wrong before correct\n",
    "correctAndWrong[correctAndWrong['Date_wrong'] < correctAndWrong['Date_correct']].shape"
   ]
  },
  {
   "cell_type": "code",
   "execution_count": 21,
   "metadata": {},
   "outputs": [
    {
     "data": {
      "text/plain": [
       "(153, 3)"
      ]
     },
     "execution_count": 21,
     "metadata": {},
     "output_type": "execute_result"
    }
   ],
   "source": [
    "# systems wrong after correct\n",
    "correctAndWrong[correctAndWrong['Date_wrong'] > correctAndWrong['Date_correct']].shape"
   ]
  },
  {
   "cell_type": "code",
   "execution_count": 22,
   "metadata": {},
   "outputs": [
    {
     "data": {
      "text/plain": [
       "(6179, 3)"
      ]
     },
     "execution_count": 22,
     "metadata": {},
     "output_type": "execute_result"
    }
   ],
   "source": [
    "# systems never wrong\n",
    "correctAndWrong[pd.isnull(correctAndWrong['Date_wrong'])].shape"
   ]
  },
  {
   "cell_type": "code",
   "execution_count": 23,
   "metadata": {},
   "outputs": [
    {
     "name": "stdout",
     "output_type": "stream",
     "text": [
      "(28, 3)\n"
     ]
    },
    {
     "data": {
      "text/html": [
       "<div>\n",
       "<style>\n",
       "    .dataframe thead tr:only-child th {\n",
       "        text-align: right;\n",
       "    }\n",
       "\n",
       "    .dataframe thead th {\n",
       "        text-align: left;\n",
       "    }\n",
       "\n",
       "    .dataframe tbody tr th {\n",
       "        vertical-align: top;\n",
       "    }\n",
       "</style>\n",
       "<table border=\"1\" class=\"dataframe\">\n",
       "  <thead>\n",
       "    <tr style=\"text-align: right;\">\n",
       "      <th></th>\n",
       "      <th>Water.System.Name</th>\n",
       "      <th>Date_correct</th>\n",
       "      <th>Date_wrong</th>\n",
       "    </tr>\n",
       "  </thead>\n",
       "  <tbody>\n",
       "    <tr>\n",
       "      <th>6561</th>\n",
       "      <td>AMERICAN RIVER COLLEGE</td>\n",
       "      <td>NaT</td>\n",
       "      <td>2016-01-01</td>\n",
       "    </tr>\n",
       "    <tr>\n",
       "      <th>6562</th>\n",
       "      <td>CAL TRANS-TIPTON NORTHBOUND REST STOP</td>\n",
       "      <td>NaT</td>\n",
       "      <td>2013-01-01</td>\n",
       "    </tr>\n",
       "    <tr>\n",
       "      <th>6563</th>\n",
       "      <td>CAMP CHILNUALNA WATER SYSTEM</td>\n",
       "      <td>NaT</td>\n",
       "      <td>2016-01-01</td>\n",
       "    </tr>\n",
       "    <tr>\n",
       "      <th>6564</th>\n",
       "      <td>CITY OF DORRIS</td>\n",
       "      <td>NaT</td>\n",
       "      <td>2013-01-01</td>\n",
       "    </tr>\n",
       "    <tr>\n",
       "      <th>6565</th>\n",
       "      <td>CITY OF LOYALTON</td>\n",
       "      <td>NaT</td>\n",
       "      <td>2014-01-01</td>\n",
       "    </tr>\n",
       "    <tr>\n",
       "      <th>6566</th>\n",
       "      <td>CITY OF WEED</td>\n",
       "      <td>NaT</td>\n",
       "      <td>2014-01-01</td>\n",
       "    </tr>\n",
       "    <tr>\n",
       "      <th>6567</th>\n",
       "      <td>CONSTELLATION WINE CO. MISSION BELL</td>\n",
       "      <td>NaT</td>\n",
       "      <td>2013-01-01</td>\n",
       "    </tr>\n",
       "    <tr>\n",
       "      <th>6568</th>\n",
       "      <td>DEETJEN S BIG SUR INN WS</td>\n",
       "      <td>NaT</td>\n",
       "      <td>2013-01-01</td>\n",
       "    </tr>\n",
       "    <tr>\n",
       "      <th>6569</th>\n",
       "      <td>DORRIS, CITY OF</td>\n",
       "      <td>NaT</td>\n",
       "      <td>2016-01-01</td>\n",
       "    </tr>\n",
       "    <tr>\n",
       "      <th>6570</th>\n",
       "      <td>FOLSOM STATE PRISON</td>\n",
       "      <td>NaT</td>\n",
       "      <td>2013-01-01</td>\n",
       "    </tr>\n",
       "  </tbody>\n",
       "</table>\n",
       "</div>"
      ],
      "text/plain": [
       "                          Water.System.Name Date_correct Date_wrong\n",
       "6561  AMERICAN RIVER COLLEGE                NaT          2016-01-01\n",
       "6562  CAL TRANS-TIPTON NORTHBOUND REST STOP NaT          2013-01-01\n",
       "6563  CAMP CHILNUALNA WATER SYSTEM          NaT          2016-01-01\n",
       "6564  CITY OF DORRIS                        NaT          2013-01-01\n",
       "6565  CITY OF LOYALTON                      NaT          2014-01-01\n",
       "6566  CITY OF WEED                          NaT          2014-01-01\n",
       "6567  CONSTELLATION WINE CO. MISSION BELL   NaT          2013-01-01\n",
       "6568  DEETJEN S BIG SUR INN WS              NaT          2013-01-01\n",
       "6569  DORRIS, CITY OF                       NaT          2016-01-01\n",
       "6570  FOLSOM STATE PRISON                   NaT          2013-01-01"
      ]
     },
     "execution_count": 23,
     "metadata": {},
     "output_type": "execute_result"
    }
   ],
   "source": [
    "# systems never correct\n",
    "print(correctAndWrong[pd.isnull(correctAndWrong['Date_correct'])].shape)\n",
    "correctAndWrong[pd.isnull(correctAndWrong['Date_correct'])][0:10]"
   ]
  },
  {
   "cell_type": "code",
   "execution_count": 24,
   "metadata": {},
   "outputs": [
    {
     "data": {
      "text/plain": [
       "(6589, 3)"
      ]
     },
     "execution_count": 24,
     "metadata": {},
     "output_type": "execute_result"
    }
   ],
   "source": [
    "correctAndWrong.shape"
   ]
  },
  {
   "cell_type": "markdown",
   "metadata": {
    "collapsed": true
   },
   "source": [
    "### How many records have unreported units?"
   ]
  },
  {
   "cell_type": "code",
   "execution_count": 25,
   "metadata": {},
   "outputs": [
    {
     "data": {
      "text/plain": [
       "0    0.997326\n",
       "1    0.002674\n",
       "Name: units_unavailable, dtype: float64"
      ]
     },
     "execution_count": 25,
     "metadata": {},
     "output_type": "execute_result"
    }
   ],
   "source": [
    "# What % of records have units reported incorrectly?\n",
    "prod_processed['units_unavailable'].value_counts() / prod_processed.shape[0]"
   ]
  },
  {
   "cell_type": "code",
   "execution_count": 26,
   "metadata": {},
   "outputs": [
    {
     "data": {
      "text/plain": [
       "0    0.365311\n",
       "1    0.003712\n",
       "Name: units_unavailable, dtype: float64"
      ]
     },
     "execution_count": 26,
     "metadata": {},
     "output_type": "execute_result"
    }
   ],
   "source": [
    "# What % of records have units reported incorrectly?\n",
    "deliv_processed['units_unavailable'].value_counts() / prod_processed.shape[0]"
   ]
  },
  {
   "cell_type": "code",
   "execution_count": 27,
   "metadata": {},
   "outputs": [
    {
     "data": {
      "text/html": [
       "<div>\n",
       "<style>\n",
       "    .dataframe thead tr:only-child th {\n",
       "        text-align: right;\n",
       "    }\n",
       "\n",
       "    .dataframe thead th {\n",
       "        text-align: left;\n",
       "    }\n",
       "\n",
       "    .dataframe tbody tr th {\n",
       "        vertical-align: top;\n",
       "    }\n",
       "</style>\n",
       "<table border=\"1\" class=\"dataframe\">\n",
       "  <thead>\n",
       "    <tr>\n",
       "      <th></th>\n",
       "      <th>Year</th>\n",
       "      <th colspan=\"2\" halign=\"left\">units_unavailable</th>\n",
       "      <th>pct</th>\n",
       "    </tr>\n",
       "    <tr>\n",
       "      <th></th>\n",
       "      <th></th>\n",
       "      <th>sum</th>\n",
       "      <th>count</th>\n",
       "      <th></th>\n",
       "    </tr>\n",
       "  </thead>\n",
       "  <tbody>\n",
       "    <tr>\n",
       "      <th>0</th>\n",
       "      <td>2013</td>\n",
       "      <td>171</td>\n",
       "      <td>43241</td>\n",
       "      <td>0.003955</td>\n",
       "    </tr>\n",
       "    <tr>\n",
       "      <th>1</th>\n",
       "      <td>2014</td>\n",
       "      <td>189</td>\n",
       "      <td>53338</td>\n",
       "      <td>0.003543</td>\n",
       "    </tr>\n",
       "    <tr>\n",
       "      <th>2</th>\n",
       "      <td>2015</td>\n",
       "      <td>119</td>\n",
       "      <td>54679</td>\n",
       "      <td>0.002176</td>\n",
       "    </tr>\n",
       "    <tr>\n",
       "      <th>3</th>\n",
       "      <td>2016</td>\n",
       "      <td>90</td>\n",
       "      <td>61566</td>\n",
       "      <td>0.001462</td>\n",
       "    </tr>\n",
       "  </tbody>\n",
       "</table>\n",
       "</div>"
      ],
      "text/plain": [
       "   Year units_unavailable              pct\n",
       "                      sum  count          \n",
       "0  2013  171               43241  0.003955\n",
       "1  2014  189               53338  0.003543\n",
       "2  2015  119               54679  0.002176\n",
       "3  2016  90                61566  0.001462"
      ]
     },
     "execution_count": 27,
     "metadata": {},
     "output_type": "execute_result"
    }
   ],
   "source": [
    "incorrectByYear = prod_processed[['Year','units_unavailable']].groupby('Year').agg({'units_unavailable':['sum','count']}).reset_index()\n",
    "incorrectByYear['pct'] = incorrectByYear[('units_unavailable', 'sum')] / incorrectByYear[('units_unavailable', 'count')]\n",
    "incorrectByYear"
   ]
  },
  {
   "cell_type": "code",
   "execution_count": 28,
   "metadata": {},
   "outputs": [
    {
     "data": {
      "text/html": [
       "<div>\n",
       "<style>\n",
       "    .dataframe thead tr:only-child th {\n",
       "        text-align: right;\n",
       "    }\n",
       "\n",
       "    .dataframe thead th {\n",
       "        text-align: left;\n",
       "    }\n",
       "\n",
       "    .dataframe tbody tr th {\n",
       "        vertical-align: top;\n",
       "    }\n",
       "</style>\n",
       "<table border=\"1\" class=\"dataframe\">\n",
       "  <thead>\n",
       "    <tr>\n",
       "      <th></th>\n",
       "      <th>Year</th>\n",
       "      <th colspan=\"2\" halign=\"left\">units_unavailable</th>\n",
       "      <th>pct</th>\n",
       "    </tr>\n",
       "    <tr>\n",
       "      <th></th>\n",
       "      <th></th>\n",
       "      <th>sum</th>\n",
       "      <th>count</th>\n",
       "      <th></th>\n",
       "    </tr>\n",
       "  </thead>\n",
       "  <tbody>\n",
       "    <tr>\n",
       "      <th>0</th>\n",
       "      <td>2013</td>\n",
       "      <td>128</td>\n",
       "      <td>15622</td>\n",
       "      <td>0.008194</td>\n",
       "    </tr>\n",
       "    <tr>\n",
       "      <th>1</th>\n",
       "      <td>2014</td>\n",
       "      <td>98</td>\n",
       "      <td>17251</td>\n",
       "      <td>0.005681</td>\n",
       "    </tr>\n",
       "    <tr>\n",
       "      <th>2</th>\n",
       "      <td>2015</td>\n",
       "      <td>386</td>\n",
       "      <td>22158</td>\n",
       "      <td>0.017420</td>\n",
       "    </tr>\n",
       "    <tr>\n",
       "      <th>3</th>\n",
       "      <td>2016</td>\n",
       "      <td>178</td>\n",
       "      <td>23506</td>\n",
       "      <td>0.007573</td>\n",
       "    </tr>\n",
       "  </tbody>\n",
       "</table>\n",
       "</div>"
      ],
      "text/plain": [
       "   Year units_unavailable              pct\n",
       "                      sum  count          \n",
       "0  2013  128               15622  0.008194\n",
       "1  2014  98                17251  0.005681\n",
       "2  2015  386               22158  0.017420\n",
       "3  2016  178               23506  0.007573"
      ]
     },
     "execution_count": 28,
     "metadata": {},
     "output_type": "execute_result"
    }
   ],
   "source": [
    "incorrectByYear = deliv_processed[['Year','units_unavailable']].groupby('Year').agg({'units_unavailable':['sum','count']}).reset_index()\n",
    "incorrectByYear['pct'] = incorrectByYear[('units_unavailable', 'sum')] / incorrectByYear[('units_unavailable', 'count')]\n",
    "incorrectByYear"
   ]
  },
  {
   "cell_type": "markdown",
   "metadata": {},
   "source": [
    "### Export a file with incorrect/correct and available/unavailble units flags."
   ]
  },
  {
   "cell_type": "code",
   "execution_count": 29,
   "metadata": {
    "collapsed": true
   },
   "outputs": [],
   "source": [
    "prod_processed['key'] = prod_processed[['Water.System.Name','Date']].apply(lambda x: \"{}_{}\".format(x[0],x[1]),axis=1)\n",
    "deliv_processed['key'] = deliv_processed[['Water.System.Name','Date']].apply(lambda x: \"{}_{}\".format(x[0],x[1]),axis=1)"
   ]
  },
  {
   "cell_type": "code",
   "execution_count": 30,
   "metadata": {},
   "outputs": [
    {
     "data": {
      "text/plain": [
       "1    78489\n",
       "2    24   \n",
       "Name: key, dtype: int64"
      ]
     },
     "execution_count": 30,
     "metadata": {},
     "output_type": "execute_result"
    }
   ],
   "source": [
    "dupeKeyCt_deliv = deliv_processed['key'].value_counts().reset_index()\n",
    "dupeKeyCt_deliv['key'].value_counts()"
   ]
  },
  {
   "cell_type": "code",
   "execution_count": 31,
   "metadata": {},
   "outputs": [
    {
     "data": {
      "text/plain": [
       "1    212107\n",
       "2    323   \n",
       "4    7     \n",
       "3    6     \n",
       "5    5     \n",
       "Name: key, dtype: int64"
      ]
     },
     "execution_count": 31,
     "metadata": {},
     "output_type": "execute_result"
    }
   ],
   "source": [
    "dupeKeyCt_prod = prod_processed['key'].value_counts().reset_index()\n",
    "dupeKeyCt_prod['key'].value_counts()"
   ]
  },
  {
   "cell_type": "code",
   "execution_count": 32,
   "metadata": {
    "collapsed": true
   },
   "outputs": [],
   "source": [
    "prod_processed[prod_processed['key'].isin(dupeKeyCt_prod[dupeKeyCt_prod['key']>1]['index'])==False].to_csv(\"{}2_explore_unit_correction___prod_before_unit_conversion.csv\".format(processed_data_path),index=False)\n",
    "deliv_processed[deliv_processed['key'].isin(dupeKeyCt_deliv[dupeKeyCt_deliv['key']>1]['index'])==False].to_csv(\"{}2_explore_unit_correction___deliv_before_unit_conversion.csv\".format(processed_data_path),index=False)"
   ]
  },
  {
   "cell_type": "code",
   "execution_count": 33,
   "metadata": {},
   "outputs": [
    {
     "data": {
      "text/plain": [
       "(212107, 32)"
      ]
     },
     "execution_count": 33,
     "metadata": {},
     "output_type": "execute_result"
    }
   ],
   "source": [
    "prod_processed[prod_processed['key'].isin(dupeKeyCt_prod[dupeKeyCt_prod['key']>1]['index'])==False].shape\n",
    "#212107"
   ]
  },
  {
   "cell_type": "code",
   "execution_count": 34,
   "metadata": {},
   "outputs": [
    {
     "data": {
      "text/plain": [
       "(78393, 34)"
      ]
     },
     "execution_count": 34,
     "metadata": {},
     "output_type": "execute_result"
    }
   ],
   "source": [
    "deliv_processed[deliv_processed['key'].isin(dupeKeyCt_prod[dupeKeyCt_prod['key']>1]['index'])==False].shape\n",
    "#78393, 34)"
   ]
  },
  {
   "cell_type": "code",
   "execution_count": null,
   "metadata": {
    "collapsed": true
   },
   "outputs": [],
   "source": []
  }
 ],
 "metadata": {
  "kernelspec": {
   "display_name": "Python 3",
   "language": "python",
   "name": "python3"
  },
  "language_info": {
   "codemirror_mode": {
    "name": "ipython",
    "version": 3
   },
   "file_extension": ".py",
   "mimetype": "text/x-python",
   "name": "python",
   "nbconvert_exporter": "python",
   "pygments_lexer": "ipython3",
   "version": "3.6.3"
  }
 },
 "nbformat": 4,
 "nbformat_minor": 2
}
